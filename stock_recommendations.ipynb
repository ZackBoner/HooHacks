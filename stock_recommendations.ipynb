{
 "cells": [
  {
   "cell_type": "code",
   "execution_count": 1,
   "id": "published-arizona",
   "metadata": {
    "ExecuteTime": {
     "end_time": "2021-03-28T00:59:43.516407Z",
     "start_time": "2021-03-28T00:59:43.212422Z"
    }
   },
   "outputs": [],
   "source": [
    "import pandas as pd\n",
    "import numpy as np"
   ]
  },
  {
   "cell_type": "code",
   "execution_count": 14,
   "id": "thousand-accounting",
   "metadata": {
    "ExecuteTime": {
     "end_time": "2021-03-28T01:02:57.863107Z",
     "start_time": "2021-03-28T01:02:57.857101Z"
    }
   },
   "outputs": [],
   "source": [
    "stocks_df = pd.read_csv('data/processed_data/processed_data.csv')\n",
    "stocks_df = stocks_df.rename(columns={'Unnamed: 0': 'symbol'})"
   ]
  },
  {
   "cell_type": "code",
   "execution_count": 15,
   "id": "focused-modeling",
   "metadata": {
    "ExecuteTime": {
     "end_time": "2021-03-28T01:02:58.275732Z",
     "start_time": "2021-03-28T01:02:58.272728Z"
    }
   },
   "outputs": [],
   "source": [
    "stocks_df.index = stocks_df['symbol']\n",
    "stocks_df.drop('symbol', axis=1, inplace=True)"
   ]
  },
  {
   "cell_type": "code",
   "execution_count": 16,
   "id": "tamil-youth",
   "metadata": {
    "ExecuteTime": {
     "end_time": "2021-03-28T01:02:59.192291Z",
     "start_time": "2021-03-28T01:02:59.177277Z"
    }
   },
   "outputs": [
    {
     "data": {
      "text/html": [
       "<div>\n",
       "<style scoped>\n",
       "    .dataframe tbody tr th:only-of-type {\n",
       "        vertical-align: middle;\n",
       "    }\n",
       "\n",
       "    .dataframe tbody tr th {\n",
       "        vertical-align: top;\n",
       "    }\n",
       "\n",
       "    .dataframe thead th {\n",
       "        text-align: right;\n",
       "    }\n",
       "</style>\n",
       "<table border=\"1\" class=\"dataframe\">\n",
       "  <thead>\n",
       "    <tr style=\"text-align: right;\">\n",
       "      <th></th>\n",
       "      <th>twoHundredDayAverage</th>\n",
       "      <th>averageDailyVolume10Day</th>\n",
       "      <th>fiftyDayAverage</th>\n",
       "      <th>averageVolume10days</th>\n",
       "      <th>beta</th>\n",
       "      <th>marketCap</th>\n",
       "      <th>priceToSalesTrailing12Months</th>\n",
       "      <th>fiftyTwoWeekHigh</th>\n",
       "      <th>forwardPE</th>\n",
       "      <th>fiftyTwoWeekLow</th>\n",
       "      <th>cluster</th>\n",
       "    </tr>\n",
       "    <tr>\n",
       "      <th>symbol</th>\n",
       "      <th></th>\n",
       "      <th></th>\n",
       "      <th></th>\n",
       "      <th></th>\n",
       "      <th></th>\n",
       "      <th></th>\n",
       "      <th></th>\n",
       "      <th></th>\n",
       "      <th></th>\n",
       "      <th></th>\n",
       "      <th></th>\n",
       "    </tr>\n",
       "  </thead>\n",
       "  <tbody>\n",
       "    <tr>\n",
       "      <th>A</th>\n",
       "      <td>114.528275</td>\n",
       "      <td>1629150</td>\n",
       "      <td>122.974850</td>\n",
       "      <td>1629150</td>\n",
       "      <td>1.010834</td>\n",
       "      <td>38282256384</td>\n",
       "      <td>6.922650</td>\n",
       "      <td>136.980</td>\n",
       "      <td>28.882760</td>\n",
       "      <td>68.14</td>\n",
       "      <td>3</td>\n",
       "    </tr>\n",
       "    <tr>\n",
       "      <th>AA</th>\n",
       "      <td>19.994532</td>\n",
       "      <td>7195425</td>\n",
       "      <td>26.984285</td>\n",
       "      <td>7195425</td>\n",
       "      <td>2.654205</td>\n",
       "      <td>6107601920</td>\n",
       "      <td>0.657721</td>\n",
       "      <td>33.450</td>\n",
       "      <td>13.217741</td>\n",
       "      <td>5.71</td>\n",
       "      <td>1</td>\n",
       "    </tr>\n",
       "    <tr>\n",
       "      <th>AAL</th>\n",
       "      <td>15.898058</td>\n",
       "      <td>46267525</td>\n",
       "      <td>21.025429</td>\n",
       "      <td>46267525</td>\n",
       "      <td>1.858071</td>\n",
       "      <td>14667771904</td>\n",
       "      <td>0.846039</td>\n",
       "      <td>26.090</td>\n",
       "      <td>88.192314</td>\n",
       "      <td>8.25</td>\n",
       "      <td>2</td>\n",
       "    </tr>\n",
       "    <tr>\n",
       "      <th>AAON</th>\n",
       "      <td>66.960500</td>\n",
       "      <td>180100</td>\n",
       "      <td>75.037140</td>\n",
       "      <td>180100</td>\n",
       "      <td>0.639219</td>\n",
       "      <td>3781918720</td>\n",
       "      <td>7.349939</td>\n",
       "      <td>81.250</td>\n",
       "      <td>47.900665</td>\n",
       "      <td>43.84</td>\n",
       "      <td>0</td>\n",
       "    </tr>\n",
       "    <tr>\n",
       "      <th>AAP</th>\n",
       "      <td>159.274750</td>\n",
       "      <td>964112</td>\n",
       "      <td>170.189710</td>\n",
       "      <td>964112</td>\n",
       "      <td>1.330985</td>\n",
       "      <td>12274030592</td>\n",
       "      <td>1.214490</td>\n",
       "      <td>188.170</td>\n",
       "      <td>16.845325</td>\n",
       "      <td>81.94</td>\n",
       "      <td>2</td>\n",
       "    </tr>\n",
       "    <tr>\n",
       "      <th>...</th>\n",
       "      <td>...</td>\n",
       "      <td>...</td>\n",
       "      <td>...</td>\n",
       "      <td>...</td>\n",
       "      <td>...</td>\n",
       "      <td>...</td>\n",
       "      <td>...</td>\n",
       "      <td>...</td>\n",
       "      <td>...</td>\n",
       "      <td>...</td>\n",
       "      <td>...</td>\n",
       "    </tr>\n",
       "    <tr>\n",
       "      <th>ZBH</th>\n",
       "      <td>150.406400</td>\n",
       "      <td>887425</td>\n",
       "      <td>159.974000</td>\n",
       "      <td>887425</td>\n",
       "      <td>1.358613</td>\n",
       "      <td>33531330560</td>\n",
       "      <td>4.773483</td>\n",
       "      <td>170.050</td>\n",
       "      <td>18.714619</td>\n",
       "      <td>88.00</td>\n",
       "      <td>3</td>\n",
       "    </tr>\n",
       "    <tr>\n",
       "      <th>ZBRA</th>\n",
       "      <td>371.423520</td>\n",
       "      <td>468150</td>\n",
       "      <td>472.759160</td>\n",
       "      <td>468150</td>\n",
       "      <td>1.654387</td>\n",
       "      <td>25501810688</td>\n",
       "      <td>5.733321</td>\n",
       "      <td>516.790</td>\n",
       "      <td>27.843550</td>\n",
       "      <td>170.63</td>\n",
       "      <td>3</td>\n",
       "    </tr>\n",
       "    <tr>\n",
       "      <th>ZEN</th>\n",
       "      <td>129.127270</td>\n",
       "      <td>1227575</td>\n",
       "      <td>142.372000</td>\n",
       "      <td>1227575</td>\n",
       "      <td>1.275731</td>\n",
       "      <td>15384035328</td>\n",
       "      <td>14.942282</td>\n",
       "      <td>166.600</td>\n",
       "      <td>124.419050</td>\n",
       "      <td>56.60</td>\n",
       "      <td>4</td>\n",
       "    </tr>\n",
       "    <tr>\n",
       "      <th>ZG</th>\n",
       "      <td>128.302950</td>\n",
       "      <td>766387</td>\n",
       "      <td>161.094860</td>\n",
       "      <td>766387</td>\n",
       "      <td>1.418743</td>\n",
       "      <td>30947401728</td>\n",
       "      <td>9.266197</td>\n",
       "      <td>212.400</td>\n",
       "      <td>95.710144</td>\n",
       "      <td>28.26</td>\n",
       "      <td>3</td>\n",
       "    </tr>\n",
       "    <tr>\n",
       "      <th>ZS</th>\n",
       "      <td>173.180970</td>\n",
       "      <td>2020637</td>\n",
       "      <td>197.318570</td>\n",
       "      <td>2020637</td>\n",
       "      <td>0.875313</td>\n",
       "      <td>23079892992</td>\n",
       "      <td>43.056850</td>\n",
       "      <td>230.881</td>\n",
       "      <td>278.327850</td>\n",
       "      <td>57.77</td>\n",
       "      <td>4</td>\n",
       "    </tr>\n",
       "  </tbody>\n",
       "</table>\n",
       "<p>646 rows × 11 columns</p>\n",
       "</div>"
      ],
      "text/plain": [
       "        twoHundredDayAverage  averageDailyVolume10Day  fiftyDayAverage  \\\n",
       "symbol                                                                   \n",
       "A                 114.528275                  1629150       122.974850   \n",
       "AA                 19.994532                  7195425        26.984285   \n",
       "AAL                15.898058                 46267525        21.025429   \n",
       "AAON               66.960500                   180100        75.037140   \n",
       "AAP               159.274750                   964112       170.189710   \n",
       "...                      ...                      ...              ...   \n",
       "ZBH               150.406400                   887425       159.974000   \n",
       "ZBRA              371.423520                   468150       472.759160   \n",
       "ZEN               129.127270                  1227575       142.372000   \n",
       "ZG                128.302950                   766387       161.094860   \n",
       "ZS                173.180970                  2020637       197.318570   \n",
       "\n",
       "        averageVolume10days      beta    marketCap  \\\n",
       "symbol                                               \n",
       "A                   1629150  1.010834  38282256384   \n",
       "AA                  7195425  2.654205   6107601920   \n",
       "AAL                46267525  1.858071  14667771904   \n",
       "AAON                 180100  0.639219   3781918720   \n",
       "AAP                  964112  1.330985  12274030592   \n",
       "...                     ...       ...          ...   \n",
       "ZBH                  887425  1.358613  33531330560   \n",
       "ZBRA                 468150  1.654387  25501810688   \n",
       "ZEN                 1227575  1.275731  15384035328   \n",
       "ZG                   766387  1.418743  30947401728   \n",
       "ZS                  2020637  0.875313  23079892992   \n",
       "\n",
       "        priceToSalesTrailing12Months  fiftyTwoWeekHigh   forwardPE  \\\n",
       "symbol                                                               \n",
       "A                           6.922650           136.980   28.882760   \n",
       "AA                          0.657721            33.450   13.217741   \n",
       "AAL                         0.846039            26.090   88.192314   \n",
       "AAON                        7.349939            81.250   47.900665   \n",
       "AAP                         1.214490           188.170   16.845325   \n",
       "...                              ...               ...         ...   \n",
       "ZBH                         4.773483           170.050   18.714619   \n",
       "ZBRA                        5.733321           516.790   27.843550   \n",
       "ZEN                        14.942282           166.600  124.419050   \n",
       "ZG                          9.266197           212.400   95.710144   \n",
       "ZS                         43.056850           230.881  278.327850   \n",
       "\n",
       "        fiftyTwoWeekLow  cluster  \n",
       "symbol                            \n",
       "A                 68.14        3  \n",
       "AA                 5.71        1  \n",
       "AAL                8.25        2  \n",
       "AAON              43.84        0  \n",
       "AAP               81.94        2  \n",
       "...                 ...      ...  \n",
       "ZBH               88.00        3  \n",
       "ZBRA             170.63        3  \n",
       "ZEN               56.60        4  \n",
       "ZG                28.26        3  \n",
       "ZS                57.77        4  \n",
       "\n",
       "[646 rows x 11 columns]"
      ]
     },
     "execution_count": 16,
     "metadata": {},
     "output_type": "execute_result"
    }
   ],
   "source": [
    "stocks_df"
   ]
  },
  {
   "cell_type": "code",
   "execution_count": 17,
   "id": "beginning-pipeline",
   "metadata": {
    "ExecuteTime": {
     "end_time": "2021-03-28T01:06:23.687319Z",
     "start_time": "2021-03-28T01:06:23.672306Z"
    }
   },
   "outputs": [],
   "source": [
    "prepared_stocks_data = np.load('data/processed_data/transformed_data.npy')"
   ]
  },
  {
   "cell_type": "code",
   "execution_count": 20,
   "id": "beneficial-whale",
   "metadata": {
    "ExecuteTime": {
     "end_time": "2021-03-28T01:07:18.701245Z",
     "start_time": "2021-03-28T01:07:18.699242Z"
    }
   },
   "outputs": [],
   "source": [
    "clusters = np.array(stocks_df.cluster)"
   ]
  },
  {
   "cell_type": "code",
   "execution_count": 32,
   "id": "particular-prompt",
   "metadata": {
    "ExecuteTime": {
     "end_time": "2021-03-28T01:11:04.414751Z",
     "start_time": "2021-03-28T01:11:04.407745Z"
    }
   },
   "outputs": [
    {
     "name": "stdout",
     "output_type": "stream",
     "text": [
      "0 0.706291637037037\n",
      "1 2.72699404\n",
      "2 1.5492084285714285\n",
      "3 1.4071738478260871\n",
      "4 0.9403671144578312\n"
     ]
    }
   ],
   "source": [
    "for cluster in sorted(stocks_df.cluster.unique()):\n",
    "    print(cluster, stocks_df[stocks_df.cluster == cluster].beta.mean())"
   ]
  },
  {
   "cell_type": "markdown",
   "id": "aggregate-organ",
   "metadata": {},
   "source": [
    "From the previous example, we see that \n",
    "\n",
    "clusters 0 and 4 are low-risk relative to the market,\n",
    "\n",
    "cluster 1 is high-risk relative to the market,\n",
    "\n",
    "and clusters 2 and 3 are medium-risk relative to the market."
   ]
  },
  {
   "cell_type": "code",
   "execution_count": 33,
   "id": "agricultural-tender",
   "metadata": {
    "ExecuteTime": {
     "end_time": "2021-03-28T01:12:36.924278Z",
     "start_time": "2021-03-28T01:12:36.918274Z"
    }
   },
   "outputs": [
    {
     "name": "stdout",
     "output_type": "stream",
     "text": [
      "0 6420226755.318519\n",
      "1 9087189719.04\n",
      "2 6649967431.881773\n",
      "3 34583222539.13043\n",
      "4 20111150024.481926\n"
     ]
    }
   ],
   "source": [
    "for cluster in sorted(stocks_df.cluster.unique()):\n",
    "    print(cluster, stocks_df[stocks_df.cluster == cluster].marketCap.mean())"
   ]
  },
  {
   "cell_type": "markdown",
   "id": "indoor-claim",
   "metadata": {},
   "source": [
    "From the previous example, we see that\n",
    "\n",
    "clusters 0, 1, and 2 are lower market cap than\n",
    "\n",
    "clusters 3 and 4"
   ]
  },
  {
   "cell_type": "markdown",
   "id": "authorized-termination",
   "metadata": {},
   "source": [
    "From this information, we can characterize \n",
    "\n",
    "cluster 0 as \"low risk, low market cap\"\n",
    "\n",
    "cluster 1 as \"high risk, low market cap\"\n",
    "\n",
    "cluster 2 as \"medium risk, low market cap\"\n",
    "\n",
    "cluster 3 as \"medium risk, high market cap\" and\n",
    "\n",
    "cluster 4 as \"low risk, high market cap\""
   ]
  },
  {
   "cell_type": "code",
   "execution_count": null,
   "id": "regulated-parish",
   "metadata": {},
   "outputs": [],
   "source": []
  }
 ],
 "metadata": {
  "kernelspec": {
   "display_name": "Python 3",
   "language": "python",
   "name": "python3"
  },
  "language_info": {
   "codemirror_mode": {
    "name": "ipython",
    "version": 3
   },
   "file_extension": ".py",
   "mimetype": "text/x-python",
   "name": "python",
   "nbconvert_exporter": "python",
   "pygments_lexer": "ipython3",
   "version": "3.9.2"
  }
 },
 "nbformat": 4,
 "nbformat_minor": 5
}
