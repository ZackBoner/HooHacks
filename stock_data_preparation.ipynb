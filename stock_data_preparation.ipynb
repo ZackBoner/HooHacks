{
 "cells": [
  {
   "cell_type": "code",
   "execution_count": 3,
   "id": "annoying-separate",
   "metadata": {
    "ExecuteTime": {
     "end_time": "2021-03-28T00:51:21.476151Z",
     "start_time": "2021-03-28T00:51:21.467143Z"
    }
   },
   "outputs": [],
   "source": [
    "import numpy as np\n",
    "import pandas as pd\n",
    "import yahoofinancials as yf\n",
    "from tqdm import tqdm\n",
    "import pickle"
   ]
  },
  {
   "cell_type": "code",
   "execution_count": 4,
   "id": "corporate-hearts",
   "metadata": {
    "ExecuteTime": {
     "end_time": "2021-03-28T00:51:23.085602Z",
     "start_time": "2021-03-28T00:51:23.079597Z"
    }
   },
   "outputs": [],
   "source": [
    "med_holdings = pd.read_csv('data/SWMCX_FundHoldings_2021-02-28.CSV')"
   ]
  },
  {
   "cell_type": "code",
   "execution_count": 5,
   "id": "incident-visiting",
   "metadata": {
    "ExecuteTime": {
     "end_time": "2021-03-28T00:51:23.460157Z",
     "start_time": "2021-03-28T00:51:23.452151Z"
    }
   },
   "outputs": [],
   "source": [
    "sm_holdings = pd.read_csv('data/SWSSX_FundHoldings_2021-02-28.CSV')"
   ]
  },
  {
   "cell_type": "code",
   "execution_count": 6,
   "id": "bridal-graph",
   "metadata": {
    "ExecuteTime": {
     "end_time": "2021-03-28T00:51:25.548227Z",
     "start_time": "2021-03-28T00:51:25.540221Z"
    }
   },
   "outputs": [],
   "source": [
    "med_holdings.dropna(inplace=True)\n",
    "sm_holdings.dropna(inplace=True)"
   ]
  },
  {
   "cell_type": "code",
   "execution_count": 7,
   "id": "assigned-pound",
   "metadata": {
    "ExecuteTime": {
     "end_time": "2021-03-28T00:51:31.630118Z",
     "start_time": "2021-03-28T00:51:31.623112Z"
    }
   },
   "outputs": [
    {
     "name": "stdout",
     "output_type": "stream",
     "text": [
      "<class 'pandas.core.frame.DataFrame'>\n",
      "Int64Index: 820 entries, 0 to 821\n",
      "Data columns (total 5 columns):\n",
      " #   Column        Non-Null Count  Dtype  \n",
      "---  ------        --------------  -----  \n",
      " 0   As-Of-Date    820 non-null    object \n",
      " 1   Symbol        820 non-null    object \n",
      " 2   Name          820 non-null    object \n",
      " 3   % of Assets   820 non-null    float64\n",
      " 4   Market Value  820 non-null    float64\n",
      "dtypes: float64(2), object(3)\n",
      "memory usage: 38.4+ KB\n"
     ]
    }
   ],
   "source": [
    "med_holdings.info()"
   ]
  },
  {
   "cell_type": "code",
   "execution_count": 8,
   "id": "patent-diagram",
   "metadata": {
    "ExecuteTime": {
     "end_time": "2021-03-28T00:51:31.941355Z",
     "start_time": "2021-03-28T00:51:31.934348Z"
    }
   },
   "outputs": [
    {
     "name": "stdout",
     "output_type": "stream",
     "text": [
      "<class 'pandas.core.frame.DataFrame'>\n",
      "Int64Index: 2029 entries, 0 to 2034\n",
      "Data columns (total 5 columns):\n",
      " #   Column        Non-Null Count  Dtype  \n",
      "---  ------        --------------  -----  \n",
      " 0   As-Of-Date    2029 non-null   object \n",
      " 1   Symbol        2029 non-null   object \n",
      " 2   Name          2029 non-null   object \n",
      " 3   % of Assets   2029 non-null   float64\n",
      " 4   Market Value  2029 non-null   float64\n",
      "dtypes: float64(2), object(3)\n",
      "memory usage: 95.1+ KB\n"
     ]
    }
   ],
   "source": [
    "sm_holdings.info()"
   ]
  },
  {
   "cell_type": "code",
   "execution_count": 9,
   "id": "entertaining-reason",
   "metadata": {
    "ExecuteTime": {
     "end_time": "2021-03-28T00:51:33.138264Z",
     "start_time": "2021-03-28T00:51:33.131259Z"
    }
   },
   "outputs": [
    {
     "data": {
      "text/plain": [
       "366"
      ]
     },
     "execution_count": 9,
     "metadata": {},
     "output_type": "execute_result"
    }
   ],
   "source": [
    "med_high_assets = med_holdings[med_holdings[\"% of Assets\"] > 0.1]\n",
    "len(med_high_assets)"
   ]
  },
  {
   "cell_type": "code",
   "execution_count": 10,
   "id": "quiet-civilization",
   "metadata": {
    "ExecuteTime": {
     "end_time": "2021-03-28T00:51:33.985806Z",
     "start_time": "2021-03-28T00:51:33.982803Z"
    }
   },
   "outputs": [
    {
     "data": {
      "text/plain": [
       "308"
      ]
     },
     "execution_count": 10,
     "metadata": {},
     "output_type": "execute_result"
    }
   ],
   "source": [
    "sm_high_assets = sm_holdings[sm_holdings[\"% of Assets\"] > 0.1]\n",
    "len(sm_high_assets)"
   ]
  },
  {
   "cell_type": "code",
   "execution_count": 42,
   "id": "covered-ribbon",
   "metadata": {
    "ExecuteTime": {
     "end_time": "2021-03-27T19:31:50.206807Z",
     "start_time": "2021-03-27T19:31:50.204805Z"
    }
   },
   "outputs": [],
   "source": [
    "tickers = list(med_high_assets.Symbol.append(\n",
    "    sm_high_assets.Symbol, ignore_index=True))"
   ]
  },
  {
   "cell_type": "code",
   "execution_count": 43,
   "id": "prompt-apache",
   "metadata": {
    "ExecuteTime": {
     "end_time": "2021-03-27T19:31:51.023084Z",
     "start_time": "2021-03-27T19:31:51.021082Z"
    }
   },
   "outputs": [],
   "source": [
    "def pickle_single_stock_data(stock_data):\n",
    "    with open(f'data/stock_data/{list(stock_data.keys())[0]}', 'wb') as handle:\n",
    "        pickle.dump(stock_data, handle, protocol=pickle.HIGHEST_PROTOCOL)"
   ]
  },
  {
   "cell_type": "code",
   "execution_count": 44,
   "id": "social-fight",
   "metadata": {
    "ExecuteTime": {
     "end_time": "2021-03-27T21:01:58.292774Z",
     "start_time": "2021-03-27T19:31:51.749258Z"
    }
   },
   "outputs": [
    {
     "name": "stderr",
     "output_type": "stream",
     "text": [
      "100%|██████████████████████████████████████████████████████████████████████████████| 674/674 [1:30:06<00:00,  8.02s/it]\n"
     ]
    }
   ],
   "source": [
    "# get summary data for every stock in our list of tickers\n",
    "for ticker in tqdm(tickers):\n",
    "    stock_data = yf.YahooFinancials(ticker).get_summary_data()\n",
    "    pickle_single_stock_data(stock_data)"
   ]
  },
  {
   "cell_type": "code",
   "execution_count": 11,
   "id": "designing-senate",
   "metadata": {
    "ExecuteTime": {
     "end_time": "2021-03-28T00:51:41.425897Z",
     "start_time": "2021-03-28T00:51:41.420892Z"
    }
   },
   "outputs": [],
   "source": [
    "import os\n",
    "import glob\n",
    "path = 'data/stock_data/'\n",
    "all_files = glob.glob(os.path.join(path, \"*\"))"
   ]
  },
  {
   "cell_type": "code",
   "execution_count": 12,
   "id": "fatal-martin",
   "metadata": {
    "ExecuteTime": {
     "end_time": "2021-03-28T00:51:47.142138Z",
     "start_time": "2021-03-28T00:51:43.893172Z"
    }
   },
   "outputs": [],
   "source": [
    "# read in the stock data and concatenate into a dataframe\n",
    "stocks = []\n",
    "for filename in all_files:\n",
    "    df = pd.DataFrame.from_dict(pd.read_pickle(filename), orient='index')\n",
    "    stocks.append(df)\n",
    "stock_df = pd.concat(stocks)"
   ]
  },
  {
   "cell_type": "code",
   "execution_count": 13,
   "id": "generous-leone",
   "metadata": {
    "ExecuteTime": {
     "end_time": "2021-03-28T00:51:47.155150Z",
     "start_time": "2021-03-28T00:51:47.143139Z"
    }
   },
   "outputs": [],
   "source": [
    "# drop any columns with >=50% NA values in the column\n",
    "stock_df = stock_df.loc[:, stock_df.isnull().mean() < 0.1]\n",
    "# drop any rows without a beta value\n",
    "stock_df = stock_df[~stock_df.beta.isna()]"
   ]
  },
  {
   "cell_type": "code",
   "execution_count": 14,
   "id": "purple-packing",
   "metadata": {
    "ExecuteTime": {
     "end_time": "2021-03-28T00:51:47.166628Z",
     "start_time": "2021-03-28T00:51:47.157150Z"
    }
   },
   "outputs": [
    {
     "name": "stdout",
     "output_type": "stream",
     "text": [
      "<class 'pandas.core.frame.DataFrame'>\n",
      "Index: 648 entries, A to ZS\n",
      "Data columns (total 33 columns):\n",
      " #   Column                        Non-Null Count  Dtype  \n",
      "---  ------                        --------------  -----  \n",
      " 0   previousClose                 648 non-null    float64\n",
      " 1   regularMarketOpen             648 non-null    float64\n",
      " 2   twoHundredDayAverage          648 non-null    float64\n",
      " 3   payoutRatio                   587 non-null    object \n",
      " 4   regularMarketDayHigh          648 non-null    float64\n",
      " 5   averageDailyVolume10Day       648 non-null    int64  \n",
      " 6   regularMarketPreviousClose    648 non-null    float64\n",
      " 7   fiftyDayAverage               648 non-null    float64\n",
      " 8   open                          648 non-null    float64\n",
      " 9   averageVolume10days           648 non-null    int64  \n",
      " 10  expireDate                    648 non-null    object \n",
      " 11  exDividendDate                648 non-null    object \n",
      " 12  beta                          648 non-null    object \n",
      " 13  startDate                     648 non-null    object \n",
      " 14  regularMarketDayLow           648 non-null    float64\n",
      " 15  priceHint                     648 non-null    int64  \n",
      " 16  currency                      648 non-null    object \n",
      " 17  regularMarketVolume           648 non-null    int64  \n",
      " 18  marketCap                     648 non-null    object \n",
      " 19  averageVolume                 648 non-null    int64  \n",
      " 20  priceToSalesTrailing12Months  646 non-null    object \n",
      " 21  dayLow                        648 non-null    float64\n",
      " 22  ask                           648 non-null    float64\n",
      " 23  askSize                       648 non-null    int64  \n",
      " 24  volume                        648 non-null    int64  \n",
      " 25  fiftyTwoWeekHigh              648 non-null    float64\n",
      " 26  forwardPE                     633 non-null    object \n",
      " 27  maxAge                        648 non-null    int64  \n",
      " 28  fiftyTwoWeekLow               648 non-null    float64\n",
      " 29  bid                           648 non-null    float64\n",
      " 30  tradeable                     648 non-null    bool   \n",
      " 31  bidSize                       648 non-null    int64  \n",
      " 32  dayHigh                       648 non-null    float64\n",
      "dtypes: bool(1), float64(14), int64(9), object(9)\n",
      "memory usage: 167.7+ KB\n"
     ]
    }
   ],
   "source": [
    "stock_df.info()"
   ]
  },
  {
   "cell_type": "code",
   "execution_count": 15,
   "id": "interstate-fusion",
   "metadata": {
    "ExecuteTime": {
     "end_time": "2021-03-28T00:51:47.217671Z",
     "start_time": "2021-03-28T00:51:47.167628Z"
    }
   },
   "outputs": [
    {
     "data": {
      "text/html": [
       "<div>\n",
       "<style scoped>\n",
       "    .dataframe tbody tr th:only-of-type {\n",
       "        vertical-align: middle;\n",
       "    }\n",
       "\n",
       "    .dataframe tbody tr th {\n",
       "        vertical-align: top;\n",
       "    }\n",
       "\n",
       "    .dataframe thead th {\n",
       "        text-align: right;\n",
       "    }\n",
       "</style>\n",
       "<table border=\"1\" class=\"dataframe\">\n",
       "  <thead>\n",
       "    <tr style=\"text-align: right;\">\n",
       "      <th></th>\n",
       "      <th>previousClose</th>\n",
       "      <th>regularMarketOpen</th>\n",
       "      <th>twoHundredDayAverage</th>\n",
       "      <th>regularMarketDayHigh</th>\n",
       "      <th>averageDailyVolume10Day</th>\n",
       "      <th>regularMarketPreviousClose</th>\n",
       "      <th>fiftyDayAverage</th>\n",
       "      <th>open</th>\n",
       "      <th>averageVolume10days</th>\n",
       "      <th>regularMarketDayLow</th>\n",
       "      <th>...</th>\n",
       "      <th>dayLow</th>\n",
       "      <th>ask</th>\n",
       "      <th>askSize</th>\n",
       "      <th>volume</th>\n",
       "      <th>fiftyTwoWeekHigh</th>\n",
       "      <th>maxAge</th>\n",
       "      <th>fiftyTwoWeekLow</th>\n",
       "      <th>bid</th>\n",
       "      <th>bidSize</th>\n",
       "      <th>dayHigh</th>\n",
       "    </tr>\n",
       "  </thead>\n",
       "  <tbody>\n",
       "    <tr>\n",
       "      <th>count</th>\n",
       "      <td>648.000000</td>\n",
       "      <td>648.000000</td>\n",
       "      <td>648.000000</td>\n",
       "      <td>648.000000</td>\n",
       "      <td>6.480000e+02</td>\n",
       "      <td>648.000000</td>\n",
       "      <td>648.000000</td>\n",
       "      <td>648.000000</td>\n",
       "      <td>6.480000e+02</td>\n",
       "      <td>648.000000</td>\n",
       "      <td>...</td>\n",
       "      <td>648.000000</td>\n",
       "      <td>648.000000</td>\n",
       "      <td>648.000000</td>\n",
       "      <td>6.480000e+02</td>\n",
       "      <td>648.000000</td>\n",
       "      <td>648.0</td>\n",
       "      <td>648.000000</td>\n",
       "      <td>648.000000</td>\n",
       "      <td>648.000000</td>\n",
       "      <td>648.000000</td>\n",
       "    </tr>\n",
       "    <tr>\n",
       "      <th>mean</th>\n",
       "      <td>132.325914</td>\n",
       "      <td>133.024679</td>\n",
       "      <td>122.620710</td>\n",
       "      <td>136.022240</td>\n",
       "      <td>2.516656e+06</td>\n",
       "      <td>132.325914</td>\n",
       "      <td>135.676070</td>\n",
       "      <td>133.024679</td>\n",
       "      <td>2.516656e+06</td>\n",
       "      <td>130.861014</td>\n",
       "      <td>...</td>\n",
       "      <td>130.861014</td>\n",
       "      <td>136.536080</td>\n",
       "      <td>1242.746914</td>\n",
       "      <td>2.339327e+06</td>\n",
       "      <td>156.492939</td>\n",
       "      <td>1.0</td>\n",
       "      <td>65.234229</td>\n",
       "      <td>131.591296</td>\n",
       "      <td>1260.339506</td>\n",
       "      <td>136.022240</td>\n",
       "    </tr>\n",
       "    <tr>\n",
       "      <th>std</th>\n",
       "      <td>231.513463</td>\n",
       "      <td>231.852495</td>\n",
       "      <td>220.935798</td>\n",
       "      <td>239.155629</td>\n",
       "      <td>5.772540e+06</td>\n",
       "      <td>231.513463</td>\n",
       "      <td>235.839677</td>\n",
       "      <td>231.852495</td>\n",
       "      <td>5.772540e+06</td>\n",
       "      <td>230.228583</td>\n",
       "      <td>...</td>\n",
       "      <td>230.228583</td>\n",
       "      <td>241.006002</td>\n",
       "      <td>2434.300839</td>\n",
       "      <td>9.529880e+06</td>\n",
       "      <td>259.769637</td>\n",
       "      <td>0.0</td>\n",
       "      <td>127.588157</td>\n",
       "      <td>234.856113</td>\n",
       "      <td>2571.953931</td>\n",
       "      <td>239.155629</td>\n",
       "    </tr>\n",
       "    <tr>\n",
       "      <th>min</th>\n",
       "      <td>5.850000</td>\n",
       "      <td>5.880000</td>\n",
       "      <td>4.492230</td>\n",
       "      <td>5.970000</td>\n",
       "      <td>0.000000e+00</td>\n",
       "      <td>5.850000</td>\n",
       "      <td>6.058571</td>\n",
       "      <td>5.880000</td>\n",
       "      <td>0.000000e+00</td>\n",
       "      <td>5.780000</td>\n",
       "      <td>...</td>\n",
       "      <td>5.780000</td>\n",
       "      <td>0.000000</td>\n",
       "      <td>800.000000</td>\n",
       "      <td>2.291300e+04</td>\n",
       "      <td>7.003000</td>\n",
       "      <td>1.0</td>\n",
       "      <td>1.260000</td>\n",
       "      <td>0.000000</td>\n",
       "      <td>0.000000</td>\n",
       "      <td>5.970000</td>\n",
       "    </tr>\n",
       "    <tr>\n",
       "      <th>25%</th>\n",
       "      <td>49.907500</td>\n",
       "      <td>50.347500</td>\n",
       "      <td>42.992968</td>\n",
       "      <td>51.320000</td>\n",
       "      <td>5.311932e+05</td>\n",
       "      <td>49.907500</td>\n",
       "      <td>49.707143</td>\n",
       "      <td>50.347500</td>\n",
       "      <td>5.311932e+05</td>\n",
       "      <td>48.725000</td>\n",
       "      <td>...</td>\n",
       "      <td>48.725000</td>\n",
       "      <td>50.185000</td>\n",
       "      <td>800.000000</td>\n",
       "      <td>3.782605e+05</td>\n",
       "      <td>58.100000</td>\n",
       "      <td>1.0</td>\n",
       "      <td>19.162500</td>\n",
       "      <td>48.237500</td>\n",
       "      <td>800.000000</td>\n",
       "      <td>51.320000</td>\n",
       "    </tr>\n",
       "    <tr>\n",
       "      <th>50%</th>\n",
       "      <td>84.105000</td>\n",
       "      <td>85.260000</td>\n",
       "      <td>77.201690</td>\n",
       "      <td>86.345000</td>\n",
       "      <td>1.018481e+06</td>\n",
       "      <td>84.105000</td>\n",
       "      <td>86.124143</td>\n",
       "      <td>85.260000</td>\n",
       "      <td>1.018481e+06</td>\n",
       "      <td>83.245000</td>\n",
       "      <td>...</td>\n",
       "      <td>83.245000</td>\n",
       "      <td>86.380000</td>\n",
       "      <td>900.000000</td>\n",
       "      <td>7.429655e+05</td>\n",
       "      <td>99.825000</td>\n",
       "      <td>1.0</td>\n",
       "      <td>41.570000</td>\n",
       "      <td>84.400000</td>\n",
       "      <td>900.000000</td>\n",
       "      <td>86.345000</td>\n",
       "    </tr>\n",
       "    <tr>\n",
       "      <th>75%</th>\n",
       "      <td>146.495000</td>\n",
       "      <td>146.680000</td>\n",
       "      <td>135.673365</td>\n",
       "      <td>151.105000</td>\n",
       "      <td>2.175928e+06</td>\n",
       "      <td>146.495000</td>\n",
       "      <td>151.414385</td>\n",
       "      <td>146.680000</td>\n",
       "      <td>2.175928e+06</td>\n",
       "      <td>145.385000</td>\n",
       "      <td>...</td>\n",
       "      <td>145.385000</td>\n",
       "      <td>152.535000</td>\n",
       "      <td>1100.000000</td>\n",
       "      <td>1.830852e+06</td>\n",
       "      <td>175.005000</td>\n",
       "      <td>1.0</td>\n",
       "      <td>73.362500</td>\n",
       "      <td>142.525000</td>\n",
       "      <td>1100.000000</td>\n",
       "      <td>151.105000</td>\n",
       "    </tr>\n",
       "    <tr>\n",
       "      <th>max</th>\n",
       "      <td>4567.860000</td>\n",
       "      <td>4569.040000</td>\n",
       "      <td>4273.718800</td>\n",
       "      <td>4749.990000</td>\n",
       "      <td>7.342709e+07</td>\n",
       "      <td>4567.860000</td>\n",
       "      <td>4620.883000</td>\n",
       "      <td>4569.040000</td>\n",
       "      <td>7.342709e+07</td>\n",
       "      <td>4561.520000</td>\n",
       "      <td>...</td>\n",
       "      <td>4561.520000</td>\n",
       "      <td>4755.220000</td>\n",
       "      <td>40000.000000</td>\n",
       "      <td>2.166310e+08</td>\n",
       "      <td>4832.800000</td>\n",
       "      <td>1.0</td>\n",
       "      <td>2294.720000</td>\n",
       "      <td>4710.020000</td>\n",
       "      <td>38500.000000</td>\n",
       "      <td>4749.990000</td>\n",
       "    </tr>\n",
       "  </tbody>\n",
       "</table>\n",
       "<p>8 rows × 23 columns</p>\n",
       "</div>"
      ],
      "text/plain": [
       "       previousClose  regularMarketOpen  twoHundredDayAverage  \\\n",
       "count     648.000000         648.000000            648.000000   \n",
       "mean      132.325914         133.024679            122.620710   \n",
       "std       231.513463         231.852495            220.935798   \n",
       "min         5.850000           5.880000              4.492230   \n",
       "25%        49.907500          50.347500             42.992968   \n",
       "50%        84.105000          85.260000             77.201690   \n",
       "75%       146.495000         146.680000            135.673365   \n",
       "max      4567.860000        4569.040000           4273.718800   \n",
       "\n",
       "       regularMarketDayHigh  averageDailyVolume10Day  \\\n",
       "count            648.000000             6.480000e+02   \n",
       "mean             136.022240             2.516656e+06   \n",
       "std              239.155629             5.772540e+06   \n",
       "min                5.970000             0.000000e+00   \n",
       "25%               51.320000             5.311932e+05   \n",
       "50%               86.345000             1.018481e+06   \n",
       "75%              151.105000             2.175928e+06   \n",
       "max             4749.990000             7.342709e+07   \n",
       "\n",
       "       regularMarketPreviousClose  fiftyDayAverage         open  \\\n",
       "count                  648.000000       648.000000   648.000000   \n",
       "mean                   132.325914       135.676070   133.024679   \n",
       "std                    231.513463       235.839677   231.852495   \n",
       "min                      5.850000         6.058571     5.880000   \n",
       "25%                     49.907500        49.707143    50.347500   \n",
       "50%                     84.105000        86.124143    85.260000   \n",
       "75%                    146.495000       151.414385   146.680000   \n",
       "max                   4567.860000      4620.883000  4569.040000   \n",
       "\n",
       "       averageVolume10days  regularMarketDayLow  ...       dayLow  \\\n",
       "count         6.480000e+02           648.000000  ...   648.000000   \n",
       "mean          2.516656e+06           130.861014  ...   130.861014   \n",
       "std           5.772540e+06           230.228583  ...   230.228583   \n",
       "min           0.000000e+00             5.780000  ...     5.780000   \n",
       "25%           5.311932e+05            48.725000  ...    48.725000   \n",
       "50%           1.018481e+06            83.245000  ...    83.245000   \n",
       "75%           2.175928e+06           145.385000  ...   145.385000   \n",
       "max           7.342709e+07          4561.520000  ...  4561.520000   \n",
       "\n",
       "               ask       askSize        volume  fiftyTwoWeekHigh  maxAge  \\\n",
       "count   648.000000    648.000000  6.480000e+02        648.000000   648.0   \n",
       "mean    136.536080   1242.746914  2.339327e+06        156.492939     1.0   \n",
       "std     241.006002   2434.300839  9.529880e+06        259.769637     0.0   \n",
       "min       0.000000    800.000000  2.291300e+04          7.003000     1.0   \n",
       "25%      50.185000    800.000000  3.782605e+05         58.100000     1.0   \n",
       "50%      86.380000    900.000000  7.429655e+05         99.825000     1.0   \n",
       "75%     152.535000   1100.000000  1.830852e+06        175.005000     1.0   \n",
       "max    4755.220000  40000.000000  2.166310e+08       4832.800000     1.0   \n",
       "\n",
       "       fiftyTwoWeekLow          bid       bidSize      dayHigh  \n",
       "count       648.000000   648.000000    648.000000   648.000000  \n",
       "mean         65.234229   131.591296   1260.339506   136.022240  \n",
       "std         127.588157   234.856113   2571.953931   239.155629  \n",
       "min           1.260000     0.000000      0.000000     5.970000  \n",
       "25%          19.162500    48.237500    800.000000    51.320000  \n",
       "50%          41.570000    84.400000    900.000000    86.345000  \n",
       "75%          73.362500   142.525000   1100.000000   151.105000  \n",
       "max        2294.720000  4710.020000  38500.000000  4749.990000  \n",
       "\n",
       "[8 rows x 23 columns]"
      ]
     },
     "execution_count": 15,
     "metadata": {},
     "output_type": "execute_result"
    }
   ],
   "source": [
    "stock_df.describe()"
   ]
  },
  {
   "cell_type": "code",
   "execution_count": 16,
   "id": "finite-deficit",
   "metadata": {
    "ExecuteTime": {
     "end_time": "2021-03-28T00:51:47.227679Z",
     "start_time": "2021-03-28T00:51:47.218672Z"
    }
   },
   "outputs": [],
   "source": [
    "# convert any columns that can reliably be represented numerically as numeric columns\n",
    "stock_df = stock_df.apply(pd.to_numeric, errors='ignore')"
   ]
  },
  {
   "cell_type": "code",
   "execution_count": 17,
   "id": "advisory-server",
   "metadata": {
    "ExecuteTime": {
     "end_time": "2021-03-28T00:51:47.236687Z",
     "start_time": "2021-03-28T00:51:47.228680Z"
    }
   },
   "outputs": [
    {
     "name": "stdout",
     "output_type": "stream",
     "text": [
      "<class 'pandas.core.frame.DataFrame'>\n",
      "Index: 648 entries, A to ZS\n",
      "Data columns (total 33 columns):\n",
      " #   Column                        Non-Null Count  Dtype  \n",
      "---  ------                        --------------  -----  \n",
      " 0   previousClose                 648 non-null    float64\n",
      " 1   regularMarketOpen             648 non-null    float64\n",
      " 2   twoHundredDayAverage          648 non-null    float64\n",
      " 3   payoutRatio                   587 non-null    float64\n",
      " 4   regularMarketDayHigh          648 non-null    float64\n",
      " 5   averageDailyVolume10Day       648 non-null    int64  \n",
      " 6   regularMarketPreviousClose    648 non-null    float64\n",
      " 7   fiftyDayAverage               648 non-null    float64\n",
      " 8   open                          648 non-null    float64\n",
      " 9   averageVolume10days           648 non-null    int64  \n",
      " 10  expireDate                    648 non-null    object \n",
      " 11  exDividendDate                648 non-null    object \n",
      " 12  beta                          648 non-null    float64\n",
      " 13  startDate                     648 non-null    object \n",
      " 14  regularMarketDayLow           648 non-null    float64\n",
      " 15  priceHint                     648 non-null    int64  \n",
      " 16  currency                      648 non-null    object \n",
      " 17  regularMarketVolume           648 non-null    int64  \n",
      " 18  marketCap                     648 non-null    int64  \n",
      " 19  averageVolume                 648 non-null    int64  \n",
      " 20  priceToSalesTrailing12Months  646 non-null    float64\n",
      " 21  dayLow                        648 non-null    float64\n",
      " 22  ask                           648 non-null    float64\n",
      " 23  askSize                       648 non-null    int64  \n",
      " 24  volume                        648 non-null    int64  \n",
      " 25  fiftyTwoWeekHigh              648 non-null    float64\n",
      " 26  forwardPE                     633 non-null    float64\n",
      " 27  maxAge                        648 non-null    int64  \n",
      " 28  fiftyTwoWeekLow               648 non-null    float64\n",
      " 29  bid                           648 non-null    float64\n",
      " 30  tradeable                     648 non-null    bool   \n",
      " 31  bidSize                       648 non-null    int64  \n",
      " 32  dayHigh                       648 non-null    float64\n",
      "dtypes: bool(1), float64(18), int64(10), object(4)\n",
      "memory usage: 167.7+ KB\n"
     ]
    }
   ],
   "source": [
    "stock_df.info()"
   ]
  },
  {
   "cell_type": "code",
   "execution_count": 18,
   "id": "stuck-retrieval",
   "metadata": {
    "ExecuteTime": {
     "end_time": "2021-03-28T00:51:47.278724Z",
     "start_time": "2021-03-28T00:51:47.237688Z"
    }
   },
   "outputs": [],
   "source": [
    "from pandas.plotting import scatter_matrix\n",
    "import matplotlib as mpl\n",
    "mpl.rcParams['figure.figsize'] = (20, 10)"
   ]
  },
  {
   "cell_type": "code",
   "execution_count": 19,
   "id": "jewish-knock",
   "metadata": {
    "ExecuteTime": {
     "end_time": "2021-03-28T00:51:48.018144Z",
     "start_time": "2021-03-28T00:51:47.279725Z"
    }
   },
   "outputs": [
    {
     "data": {
      "image/png": "[encoded data removed]",
      "text/plain": [
       "<Figure size 432x288 with 16 Axes>"
      ]
     },
     "metadata": {
      "needs_background": "light"
     },
     "output_type": "display_data"
    }
   ],
   "source": [
    "scatter_matrix(\n",
    "    stock_df[['beta', 'marketCap', 'twoHundredDayAverage', 'averageVolume']])\n",
    "pass"
   ]
  },
  {
   "cell_type": "code",
   "execution_count": 20,
   "id": "standing-lloyd",
   "metadata": {
    "ExecuteTime": {
     "end_time": "2021-03-28T00:51:48.022147Z",
     "start_time": "2021-03-28T00:51:48.019145Z"
    }
   },
   "outputs": [],
   "source": [
    "# these columns are pretty redundant\n",
    "stock_df = stock_df.drop(['tradeable', 'currency'], axis=1)"
   ]
  },
  {
   "cell_type": "code",
   "execution_count": 21,
   "id": "classical-omaha",
   "metadata": {
    "ExecuteTime": {
     "end_time": "2021-03-28T00:51:48.030155Z",
     "start_time": "2021-03-28T00:51:48.023149Z"
    }
   },
   "outputs": [],
   "source": [
    "# drop date-related columns, as we don't really care about them\n",
    "stock_df = stock_df.drop(['expireDate', 'exDividendDate', 'startDate'], axis=1)"
   ]
  },
  {
   "cell_type": "code",
   "execution_count": 22,
   "id": "apart-proposition",
   "metadata": {
    "ExecuteTime": {
     "end_time": "2021-03-28T00:51:48.045169Z",
     "start_time": "2021-03-28T00:51:48.031156Z"
    }
   },
   "outputs": [
    {
     "name": "stdout",
     "output_type": "stream",
     "text": [
      "<class 'pandas.core.frame.DataFrame'>\n",
      "Index: 648 entries, A to ZS\n",
      "Data columns (total 28 columns):\n",
      " #   Column                        Non-Null Count  Dtype  \n",
      "---  ------                        --------------  -----  \n",
      " 0   previousClose                 648 non-null    float64\n",
      " 1   regularMarketOpen             648 non-null    float64\n",
      " 2   twoHundredDayAverage          648 non-null    float64\n",
      " 3   payoutRatio                   587 non-null    float64\n",
      " 4   regularMarketDayHigh          648 non-null    float64\n",
      " 5   averageDailyVolume10Day       648 non-null    int64  \n",
      " 6   regularMarketPreviousClose    648 non-null    float64\n",
      " 7   fiftyDayAverage               648 non-null    float64\n",
      " 8   open                          648 non-null    float64\n",
      " 9   averageVolume10days           648 non-null    int64  \n",
      " 10  beta                          648 non-null    float64\n",
      " 11  regularMarketDayLow           648 non-null    float64\n",
      " 12  priceHint                     648 non-null    int64  \n",
      " 13  regularMarketVolume           648 non-null    int64  \n",
      " 14  marketCap                     648 non-null    int64  \n",
      " 15  averageVolume                 648 non-null    int64  \n",
      " 16  priceToSalesTrailing12Months  646 non-null    float64\n",
      " 17  dayLow                        648 non-null    float64\n",
      " 18  ask                           648 non-null    float64\n",
      " 19  askSize                       648 non-null    int64  \n",
      " 20  volume                        648 non-null    int64  \n",
      " 21  fiftyTwoWeekHigh              648 non-null    float64\n",
      " 22  forwardPE                     633 non-null    float64\n",
      " 23  maxAge                        648 non-null    int64  \n",
      " 24  fiftyTwoWeekLow               648 non-null    float64\n",
      " 25  bid                           648 non-null    float64\n",
      " 26  bidSize                       648 non-null    int64  \n",
      " 27  dayHigh                       648 non-null    float64\n",
      "dtypes: float64(18), int64(10)\n",
      "memory usage: 146.8+ KB\n"
     ]
    }
   ],
   "source": [
    "stock_df.info()"
   ]
  },
  {
   "cell_type": "code",
   "execution_count": 23,
   "id": "wrapped-distribution",
   "metadata": {
    "ExecuteTime": {
     "end_time": "2021-03-28T00:51:48.051173Z",
     "start_time": "2021-03-28T00:51:48.046170Z"
    }
   },
   "outputs": [],
   "source": [
    "columns_to_drop = ['previousClose', 'regularMarketOpen', 'regularMarketDayHigh', 'regularMarketPreviousClose',\n",
    "                   'open', 'regularMarketDayLow', 'regularMarketVolume', 'priceHint', 'averageVolume', 'dayLow',\n",
    "                   'ask', 'askSize', 'bid', 'bidSize', 'volume', 'dayHigh', 'maxAge', 'payoutRatio']\n",
    "stock_df.drop(columns_to_drop, axis=1, inplace=True)\n",
    "stock_df.drop(['OKTA', 'UPWK'], inplace=True)"
   ]
  },
  {
   "cell_type": "code",
   "execution_count": 24,
   "id": "pleased-kentucky",
   "metadata": {
    "ExecuteTime": {
     "end_time": "2021-03-28T00:51:48.070189Z",
     "start_time": "2021-03-28T00:51:48.052174Z"
    }
   },
   "outputs": [
    {
     "data": {
      "text/html": [
       "<div>\n",
       "<style scoped>\n",
       "    .dataframe tbody tr th:only-of-type {\n",
       "        vertical-align: middle;\n",
       "    }\n",
       "\n",
       "    .dataframe tbody tr th {\n",
       "        vertical-align: top;\n",
       "    }\n",
       "\n",
       "    .dataframe thead th {\n",
       "        text-align: right;\n",
       "    }\n",
       "</style>\n",
       "<table border=\"1\" class=\"dataframe\">\n",
       "  <thead>\n",
       "    <tr style=\"text-align: right;\">\n",
       "      <th></th>\n",
       "      <th>twoHundredDayAverage</th>\n",
       "      <th>averageDailyVolume10Day</th>\n",
       "      <th>fiftyDayAverage</th>\n",
       "      <th>averageVolume10days</th>\n",
       "      <th>beta</th>\n",
       "      <th>marketCap</th>\n",
       "      <th>priceToSalesTrailing12Months</th>\n",
       "      <th>fiftyTwoWeekHigh</th>\n",
       "      <th>forwardPE</th>\n",
       "      <th>fiftyTwoWeekLow</th>\n",
       "    </tr>\n",
       "  </thead>\n",
       "  <tbody>\n",
       "    <tr>\n",
       "      <th>A</th>\n",
       "      <td>114.528275</td>\n",
       "      <td>1629150</td>\n",
       "      <td>122.974850</td>\n",
       "      <td>1629150</td>\n",
       "      <td>1.010834</td>\n",
       "      <td>38282256384</td>\n",
       "      <td>6.922650</td>\n",
       "      <td>136.980</td>\n",
       "      <td>28.882760</td>\n",
       "      <td>68.14</td>\n",
       "    </tr>\n",
       "    <tr>\n",
       "      <th>AA</th>\n",
       "      <td>19.994532</td>\n",
       "      <td>7195425</td>\n",
       "      <td>26.984285</td>\n",
       "      <td>7195425</td>\n",
       "      <td>2.654205</td>\n",
       "      <td>6107601920</td>\n",
       "      <td>0.657721</td>\n",
       "      <td>33.450</td>\n",
       "      <td>13.217741</td>\n",
       "      <td>5.71</td>\n",
       "    </tr>\n",
       "    <tr>\n",
       "      <th>AAL</th>\n",
       "      <td>15.898058</td>\n",
       "      <td>46267525</td>\n",
       "      <td>21.025429</td>\n",
       "      <td>46267525</td>\n",
       "      <td>1.858071</td>\n",
       "      <td>14667771904</td>\n",
       "      <td>0.846039</td>\n",
       "      <td>26.090</td>\n",
       "      <td>88.192314</td>\n",
       "      <td>8.25</td>\n",
       "    </tr>\n",
       "    <tr>\n",
       "      <th>AAON</th>\n",
       "      <td>66.960500</td>\n",
       "      <td>180100</td>\n",
       "      <td>75.037140</td>\n",
       "      <td>180100</td>\n",
       "      <td>0.639219</td>\n",
       "      <td>3781918720</td>\n",
       "      <td>7.349939</td>\n",
       "      <td>81.250</td>\n",
       "      <td>47.900665</td>\n",
       "      <td>43.84</td>\n",
       "    </tr>\n",
       "    <tr>\n",
       "      <th>AAP</th>\n",
       "      <td>159.274750</td>\n",
       "      <td>964112</td>\n",
       "      <td>170.189710</td>\n",
       "      <td>964112</td>\n",
       "      <td>1.330985</td>\n",
       "      <td>12274030592</td>\n",
       "      <td>1.214490</td>\n",
       "      <td>188.170</td>\n",
       "      <td>16.845325</td>\n",
       "      <td>81.94</td>\n",
       "    </tr>\n",
       "    <tr>\n",
       "      <th>...</th>\n",
       "      <td>...</td>\n",
       "      <td>...</td>\n",
       "      <td>...</td>\n",
       "      <td>...</td>\n",
       "      <td>...</td>\n",
       "      <td>...</td>\n",
       "      <td>...</td>\n",
       "      <td>...</td>\n",
       "      <td>...</td>\n",
       "      <td>...</td>\n",
       "    </tr>\n",
       "    <tr>\n",
       "      <th>ZBH</th>\n",
       "      <td>150.406400</td>\n",
       "      <td>887425</td>\n",
       "      <td>159.974000</td>\n",
       "      <td>887425</td>\n",
       "      <td>1.358613</td>\n",
       "      <td>33531330560</td>\n",
       "      <td>4.773483</td>\n",
       "      <td>170.050</td>\n",
       "      <td>18.714619</td>\n",
       "      <td>88.00</td>\n",
       "    </tr>\n",
       "    <tr>\n",
       "      <th>ZBRA</th>\n",
       "      <td>371.423520</td>\n",
       "      <td>468150</td>\n",
       "      <td>472.759160</td>\n",
       "      <td>468150</td>\n",
       "      <td>1.654387</td>\n",
       "      <td>25501810688</td>\n",
       "      <td>5.733321</td>\n",
       "      <td>516.790</td>\n",
       "      <td>27.843550</td>\n",
       "      <td>170.63</td>\n",
       "    </tr>\n",
       "    <tr>\n",
       "      <th>ZEN</th>\n",
       "      <td>129.127270</td>\n",
       "      <td>1227575</td>\n",
       "      <td>142.372000</td>\n",
       "      <td>1227575</td>\n",
       "      <td>1.275731</td>\n",
       "      <td>15384035328</td>\n",
       "      <td>14.942282</td>\n",
       "      <td>166.600</td>\n",
       "      <td>124.419050</td>\n",
       "      <td>56.60</td>\n",
       "    </tr>\n",
       "    <tr>\n",
       "      <th>ZG</th>\n",
       "      <td>128.302950</td>\n",
       "      <td>766387</td>\n",
       "      <td>161.094860</td>\n",
       "      <td>766387</td>\n",
       "      <td>1.418743</td>\n",
       "      <td>30947401728</td>\n",
       "      <td>9.266197</td>\n",
       "      <td>212.400</td>\n",
       "      <td>95.710144</td>\n",
       "      <td>28.26</td>\n",
       "    </tr>\n",
       "    <tr>\n",
       "      <th>ZS</th>\n",
       "      <td>173.180970</td>\n",
       "      <td>2020637</td>\n",
       "      <td>197.318570</td>\n",
       "      <td>2020637</td>\n",
       "      <td>0.875313</td>\n",
       "      <td>23079892992</td>\n",
       "      <td>43.056850</td>\n",
       "      <td>230.881</td>\n",
       "      <td>278.327850</td>\n",
       "      <td>57.77</td>\n",
       "    </tr>\n",
       "  </tbody>\n",
       "</table>\n",
       "<p>646 rows × 10 columns</p>\n",
       "</div>"
      ],
      "text/plain": [
       "      twoHundredDayAverage  averageDailyVolume10Day  fiftyDayAverage  \\\n",
       "A               114.528275                  1629150       122.974850   \n",
       "AA               19.994532                  7195425        26.984285   \n",
       "AAL              15.898058                 46267525        21.025429   \n",
       "AAON             66.960500                   180100        75.037140   \n",
       "AAP             159.274750                   964112       170.189710   \n",
       "...                    ...                      ...              ...   \n",
       "ZBH             150.406400                   887425       159.974000   \n",
       "ZBRA            371.423520                   468150       472.759160   \n",
       "ZEN             129.127270                  1227575       142.372000   \n",
       "ZG              128.302950                   766387       161.094860   \n",
       "ZS              173.180970                  2020637       197.318570   \n",
       "\n",
       "      averageVolume10days      beta    marketCap  \\\n",
       "A                 1629150  1.010834  38282256384   \n",
       "AA                7195425  2.654205   6107601920   \n",
       "AAL              46267525  1.858071  14667771904   \n",
       "AAON               180100  0.639219   3781918720   \n",
       "AAP                964112  1.330985  12274030592   \n",
       "...                   ...       ...          ...   \n",
       "ZBH                887425  1.358613  33531330560   \n",
       "ZBRA               468150  1.654387  25501810688   \n",
       "ZEN               1227575  1.275731  15384035328   \n",
       "ZG                 766387  1.418743  30947401728   \n",
       "ZS                2020637  0.875313  23079892992   \n",
       "\n",
       "      priceToSalesTrailing12Months  fiftyTwoWeekHigh   forwardPE  \\\n",
       "A                         6.922650           136.980   28.882760   \n",
       "AA                        0.657721            33.450   13.217741   \n",
       "AAL                       0.846039            26.090   88.192314   \n",
       "AAON                      7.349939            81.250   47.900665   \n",
       "AAP                       1.214490           188.170   16.845325   \n",
       "...                            ...               ...         ...   \n",
       "ZBH                       4.773483           170.050   18.714619   \n",
       "ZBRA                      5.733321           516.790   27.843550   \n",
       "ZEN                      14.942282           166.600  124.419050   \n",
       "ZG                        9.266197           212.400   95.710144   \n",
       "ZS                       43.056850           230.881  278.327850   \n",
       "\n",
       "      fiftyTwoWeekLow  \n",
       "A               68.14  \n",
       "AA               5.71  \n",
       "AAL              8.25  \n",
       "AAON            43.84  \n",
       "AAP             81.94  \n",
       "...               ...  \n",
       "ZBH             88.00  \n",
       "ZBRA           170.63  \n",
       "ZEN             56.60  \n",
       "ZG              28.26  \n",
       "ZS              57.77  \n",
       "\n",
       "[646 rows x 10 columns]"
      ]
     },
     "execution_count": 24,
     "metadata": {},
     "output_type": "execute_result"
    }
   ],
   "source": [
    "stock_df"
   ]
  },
  {
   "cell_type": "code",
   "execution_count": 25,
   "id": "based-floor",
   "metadata": {
    "ExecuteTime": {
     "end_time": "2021-03-28T00:51:48.081199Z",
     "start_time": "2021-03-28T00:51:48.071190Z"
    }
   },
   "outputs": [
    {
     "name": "stdout",
     "output_type": "stream",
     "text": [
      "<class 'pandas.core.frame.DataFrame'>\n",
      "Index: 646 entries, A to ZS\n",
      "Data columns (total 10 columns):\n",
      " #   Column                        Non-Null Count  Dtype  \n",
      "---  ------                        --------------  -----  \n",
      " 0   twoHundredDayAverage          646 non-null    float64\n",
      " 1   averageDailyVolume10Day       646 non-null    int64  \n",
      " 2   fiftyDayAverage               646 non-null    float64\n",
      " 3   averageVolume10days           646 non-null    int64  \n",
      " 4   beta                          646 non-null    float64\n",
      " 5   marketCap                     646 non-null    int64  \n",
      " 6   priceToSalesTrailing12Months  644 non-null    float64\n",
      " 7   fiftyTwoWeekHigh              646 non-null    float64\n",
      " 8   forwardPE                     631 non-null    float64\n",
      " 9   fiftyTwoWeekLow               646 non-null    float64\n",
      "dtypes: float64(7), int64(3)\n",
      "memory usage: 55.5+ KB\n"
     ]
    }
   ],
   "source": [
    "stock_df.info()"
   ]
  },
  {
   "cell_type": "code",
   "execution_count": 26,
   "id": "simplified-uganda",
   "metadata": {
    "ExecuteTime": {
     "end_time": "2021-03-28T00:51:49.035045Z",
     "start_time": "2021-03-28T00:51:48.450974Z"
    }
   },
   "outputs": [],
   "source": [
    "from sklearn.pipeline import Pipeline\n",
    "from sklearn.preprocessing import StandardScaler\n",
    "from sklearn.impute import SimpleImputer"
   ]
  },
  {
   "cell_type": "code",
   "execution_count": 27,
   "id": "unknown-framing",
   "metadata": {
    "ExecuteTime": {
     "end_time": "2021-03-28T00:51:49.246279Z",
     "start_time": "2021-03-28T00:51:49.244277Z"
    }
   },
   "outputs": [],
   "source": [
    "pipeline = Pipeline([\n",
    "    ('imputer', SimpleImputer(strategy='median')),\n",
    "    ('scaler', StandardScaler()),\n",
    "])"
   ]
  },
  {
   "cell_type": "code",
   "execution_count": 28,
   "id": "reduced-lease",
   "metadata": {
    "ExecuteTime": {
     "end_time": "2021-03-28T00:51:49.996953Z",
     "start_time": "2021-03-28T00:51:49.986943Z"
    }
   },
   "outputs": [],
   "source": [
    "prepared_stock_data = pipeline.fit_transform(stock_df)\n",
    "stock_data_only_beta_marketcap = pipeline.fit_transform(\n",
    "    stock_df[['beta', 'marketCap']])"
   ]
  },
  {
   "cell_type": "code",
   "execution_count": 29,
   "id": "radical-granny",
   "metadata": {
    "ExecuteTime": {
     "end_time": "2021-03-28T00:51:50.444185Z",
     "start_time": "2021-03-28T00:51:50.404150Z"
    }
   },
   "outputs": [],
   "source": [
    "from sklearn.cluster import KMeans"
   ]
  },
  {
   "cell_type": "code",
   "execution_count": 30,
   "id": "patent-colon",
   "metadata": {
    "ExecuteTime": {
     "end_time": "2021-03-28T00:51:50.910700Z",
     "start_time": "2021-03-28T00:51:50.863660Z"
    }
   },
   "outputs": [],
   "source": [
    "km = KMeans(n_clusters=5, copy_x=False).fit(stock_data_only_beta_marketcap)"
   ]
  },
  {
   "cell_type": "code",
   "execution_count": 31,
   "id": "premium-hazard",
   "metadata": {
    "ExecuteTime": {
     "end_time": "2021-03-28T00:51:51.451056Z",
     "start_time": "2021-03-28T00:51:51.352152Z"
    }
   },
   "outputs": [
    {
     "data": {
      "text/plain": [
       "<matplotlib.collections.PathCollection at 0x292c6ac29d0>"
      ]
     },
     "execution_count": 31,
     "metadata": {},
     "output_type": "execute_result"
    },
    {
     "data": {
      "image/png": "[encoded data removed]",
      "text/plain": [
       "<Figure size 432x288 with 1 Axes>"
      ]
     },
     "metadata": {
      "needs_background": "light"
     },
     "output_type": "display_data"
    }
   ],
   "source": [
    "mpl.pyplot.scatter(stock_df['beta'], stock_df['marketCap'], c=km.labels_)"
   ]
  },
  {
   "cell_type": "code",
   "execution_count": 32,
   "id": "black-tackle",
   "metadata": {
    "ExecuteTime": {
     "end_time": "2021-03-28T00:51:52.250925Z",
     "start_time": "2021-03-28T00:51:52.248924Z"
    }
   },
   "outputs": [],
   "source": [
    "stock_df['cluster'] = km.labels_"
   ]
  },
  {
   "cell_type": "code",
   "execution_count": 33,
   "id": "compliant-porcelain",
   "metadata": {
    "ExecuteTime": {
     "end_time": "2021-03-28T00:51:53.105831Z",
     "start_time": "2021-03-28T00:51:53.092820Z"
    }
   },
   "outputs": [
    {
     "data": {
      "text/html": [
       "<div>\n",
       "<style scoped>\n",
       "    .dataframe tbody tr th:only-of-type {\n",
       "        vertical-align: middle;\n",
       "    }\n",
       "\n",
       "    .dataframe tbody tr th {\n",
       "        vertical-align: top;\n",
       "    }\n",
       "\n",
       "    .dataframe thead th {\n",
       "        text-align: right;\n",
       "    }\n",
       "</style>\n",
       "<table border=\"1\" class=\"dataframe\">\n",
       "  <thead>\n",
       "    <tr style=\"text-align: right;\">\n",
       "      <th></th>\n",
       "      <th>twoHundredDayAverage</th>\n",
       "      <th>averageDailyVolume10Day</th>\n",
       "      <th>fiftyDayAverage</th>\n",
       "      <th>averageVolume10days</th>\n",
       "      <th>beta</th>\n",
       "      <th>marketCap</th>\n",
       "      <th>priceToSalesTrailing12Months</th>\n",
       "      <th>fiftyTwoWeekHigh</th>\n",
       "      <th>forwardPE</th>\n",
       "      <th>fiftyTwoWeekLow</th>\n",
       "      <th>cluster</th>\n",
       "    </tr>\n",
       "  </thead>\n",
       "  <tbody>\n",
       "    <tr>\n",
       "      <th>A</th>\n",
       "      <td>114.528275</td>\n",
       "      <td>1629150</td>\n",
       "      <td>122.974850</td>\n",
       "      <td>1629150</td>\n",
       "      <td>1.010834</td>\n",
       "      <td>38282256384</td>\n",
       "      <td>6.922650</td>\n",
       "      <td>136.980</td>\n",
       "      <td>28.882760</td>\n",
       "      <td>68.14</td>\n",
       "      <td>3</td>\n",
       "    </tr>\n",
       "    <tr>\n",
       "      <th>AA</th>\n",
       "      <td>19.994532</td>\n",
       "      <td>7195425</td>\n",
       "      <td>26.984285</td>\n",
       "      <td>7195425</td>\n",
       "      <td>2.654205</td>\n",
       "      <td>6107601920</td>\n",
       "      <td>0.657721</td>\n",
       "      <td>33.450</td>\n",
       "      <td>13.217741</td>\n",
       "      <td>5.71</td>\n",
       "      <td>1</td>\n",
       "    </tr>\n",
       "    <tr>\n",
       "      <th>AAL</th>\n",
       "      <td>15.898058</td>\n",
       "      <td>46267525</td>\n",
       "      <td>21.025429</td>\n",
       "      <td>46267525</td>\n",
       "      <td>1.858071</td>\n",
       "      <td>14667771904</td>\n",
       "      <td>0.846039</td>\n",
       "      <td>26.090</td>\n",
       "      <td>88.192314</td>\n",
       "      <td>8.25</td>\n",
       "      <td>2</td>\n",
       "    </tr>\n",
       "    <tr>\n",
       "      <th>AAON</th>\n",
       "      <td>66.960500</td>\n",
       "      <td>180100</td>\n",
       "      <td>75.037140</td>\n",
       "      <td>180100</td>\n",
       "      <td>0.639219</td>\n",
       "      <td>3781918720</td>\n",
       "      <td>7.349939</td>\n",
       "      <td>81.250</td>\n",
       "      <td>47.900665</td>\n",
       "      <td>43.84</td>\n",
       "      <td>0</td>\n",
       "    </tr>\n",
       "    <tr>\n",
       "      <th>AAP</th>\n",
       "      <td>159.274750</td>\n",
       "      <td>964112</td>\n",
       "      <td>170.189710</td>\n",
       "      <td>964112</td>\n",
       "      <td>1.330985</td>\n",
       "      <td>12274030592</td>\n",
       "      <td>1.214490</td>\n",
       "      <td>188.170</td>\n",
       "      <td>16.845325</td>\n",
       "      <td>81.94</td>\n",
       "      <td>2</td>\n",
       "    </tr>\n",
       "    <tr>\n",
       "      <th>...</th>\n",
       "      <td>...</td>\n",
       "      <td>...</td>\n",
       "      <td>...</td>\n",
       "      <td>...</td>\n",
       "      <td>...</td>\n",
       "      <td>...</td>\n",
       "      <td>...</td>\n",
       "      <td>...</td>\n",
       "      <td>...</td>\n",
       "      <td>...</td>\n",
       "      <td>...</td>\n",
       "    </tr>\n",
       "    <tr>\n",
       "      <th>ZBH</th>\n",
       "      <td>150.406400</td>\n",
       "      <td>887425</td>\n",
       "      <td>159.974000</td>\n",
       "      <td>887425</td>\n",
       "      <td>1.358613</td>\n",
       "      <td>33531330560</td>\n",
       "      <td>4.773483</td>\n",
       "      <td>170.050</td>\n",
       "      <td>18.714619</td>\n",
       "      <td>88.00</td>\n",
       "      <td>3</td>\n",
       "    </tr>\n",
       "    <tr>\n",
       "      <th>ZBRA</th>\n",
       "      <td>371.423520</td>\n",
       "      <td>468150</td>\n",
       "      <td>472.759160</td>\n",
       "      <td>468150</td>\n",
       "      <td>1.654387</td>\n",
       "      <td>25501810688</td>\n",
       "      <td>5.733321</td>\n",
       "      <td>516.790</td>\n",
       "      <td>27.843550</td>\n",
       "      <td>170.63</td>\n",
       "      <td>3</td>\n",
       "    </tr>\n",
       "    <tr>\n",
       "      <th>ZEN</th>\n",
       "      <td>129.127270</td>\n",
       "      <td>1227575</td>\n",
       "      <td>142.372000</td>\n",
       "      <td>1227575</td>\n",
       "      <td>1.275731</td>\n",
       "      <td>15384035328</td>\n",
       "      <td>14.942282</td>\n",
       "      <td>166.600</td>\n",
       "      <td>124.419050</td>\n",
       "      <td>56.60</td>\n",
       "      <td>4</td>\n",
       "    </tr>\n",
       "    <tr>\n",
       "      <th>ZG</th>\n",
       "      <td>128.302950</td>\n",
       "      <td>766387</td>\n",
       "      <td>161.094860</td>\n",
       "      <td>766387</td>\n",
       "      <td>1.418743</td>\n",
       "      <td>30947401728</td>\n",
       "      <td>9.266197</td>\n",
       "      <td>212.400</td>\n",
       "      <td>95.710144</td>\n",
       "      <td>28.26</td>\n",
       "      <td>3</td>\n",
       "    </tr>\n",
       "    <tr>\n",
       "      <th>ZS</th>\n",
       "      <td>173.180970</td>\n",
       "      <td>2020637</td>\n",
       "      <td>197.318570</td>\n",
       "      <td>2020637</td>\n",
       "      <td>0.875313</td>\n",
       "      <td>23079892992</td>\n",
       "      <td>43.056850</td>\n",
       "      <td>230.881</td>\n",
       "      <td>278.327850</td>\n",
       "      <td>57.77</td>\n",
       "      <td>4</td>\n",
       "    </tr>\n",
       "  </tbody>\n",
       "</table>\n",
       "<p>646 rows × 11 columns</p>\n",
       "</div>"
      ],
      "text/plain": [
       "      twoHundredDayAverage  averageDailyVolume10Day  fiftyDayAverage  \\\n",
       "A               114.528275                  1629150       122.974850   \n",
       "AA               19.994532                  7195425        26.984285   \n",
       "AAL              15.898058                 46267525        21.025429   \n",
       "AAON             66.960500                   180100        75.037140   \n",
       "AAP             159.274750                   964112       170.189710   \n",
       "...                    ...                      ...              ...   \n",
       "ZBH             150.406400                   887425       159.974000   \n",
       "ZBRA            371.423520                   468150       472.759160   \n",
       "ZEN             129.127270                  1227575       142.372000   \n",
       "ZG              128.302950                   766387       161.094860   \n",
       "ZS              173.180970                  2020637       197.318570   \n",
       "\n",
       "      averageVolume10days      beta    marketCap  \\\n",
       "A                 1629150  1.010834  38282256384   \n",
       "AA                7195425  2.654205   6107601920   \n",
       "AAL              46267525  1.858071  14667771904   \n",
       "AAON               180100  0.639219   3781918720   \n",
       "AAP                964112  1.330985  12274030592   \n",
       "...                   ...       ...          ...   \n",
       "ZBH                887425  1.358613  33531330560   \n",
       "ZBRA               468150  1.654387  25501810688   \n",
       "ZEN               1227575  1.275731  15384035328   \n",
       "ZG                 766387  1.418743  30947401728   \n",
       "ZS                2020637  0.875313  23079892992   \n",
       "\n",
       "      priceToSalesTrailing12Months  fiftyTwoWeekHigh   forwardPE  \\\n",
       "A                         6.922650           136.980   28.882760   \n",
       "AA                        0.657721            33.450   13.217741   \n",
       "AAL                       0.846039            26.090   88.192314   \n",
       "AAON                      7.349939            81.250   47.900665   \n",
       "AAP                       1.214490           188.170   16.845325   \n",
       "...                            ...               ...         ...   \n",
       "ZBH                       4.773483           170.050   18.714619   \n",
       "ZBRA                      5.733321           516.790   27.843550   \n",
       "ZEN                      14.942282           166.600  124.419050   \n",
       "ZG                        9.266197           212.400   95.710144   \n",
       "ZS                       43.056850           230.881  278.327850   \n",
       "\n",
       "      fiftyTwoWeekLow  cluster  \n",
       "A               68.14        3  \n",
       "AA               5.71        1  \n",
       "AAL              8.25        2  \n",
       "AAON            43.84        0  \n",
       "AAP             81.94        2  \n",
       "...               ...      ...  \n",
       "ZBH             88.00        3  \n",
       "ZBRA           170.63        3  \n",
       "ZEN             56.60        4  \n",
       "ZG              28.26        3  \n",
       "ZS              57.77        4  \n",
       "\n",
       "[646 rows x 11 columns]"
      ]
     },
     "execution_count": 33,
     "metadata": {},
     "output_type": "execute_result"
    }
   ],
   "source": [
    "stock_df"
   ]
  },
  {
   "cell_type": "code",
   "execution_count": 38,
   "id": "sacred-stationery",
   "metadata": {
    "ExecuteTime": {
     "end_time": "2021-03-28T00:55:10.340788Z",
     "start_time": "2021-03-28T00:55:10.333782Z"
    }
   },
   "outputs": [],
   "source": [
    "stock_df.to_csv('data/processed_data/processed_data.csv')"
   ]
  },
  {
   "cell_type": "code",
   "execution_count": 40,
   "id": "genetic-prerequisite",
   "metadata": {
    "ExecuteTime": {
     "end_time": "2021-03-28T01:06:01.507196Z",
     "start_time": "2021-03-28T01:06:01.504193Z"
    }
   },
   "outputs": [],
   "source": [
    "np.save('data/processed_data/transformed_data.npy', prepared_stock_data)"
   ]
  },
  {
   "cell_type": "code",
   "execution_count": null,
   "id": "disabled-organ",
   "metadata": {},
   "outputs": [],
   "source": []
  }
 ],
 "metadata": {
  "kernelspec": {
   "display_name": "Python 3",
   "language": "python",
   "name": "python3"
  },
  "language_info": {
   "codemirror_mode": {
    "name": "ipython",
    "version": 3
   },
   "file_extension": ".py",
   "mimetype": "text/x-python",
   "name": "python",
   "nbconvert_exporter": "python",
   "pygments_lexer": "ipython3",
   "version": "3.9.2"
  }
 },
 "nbformat": 4,
 "nbformat_minor": 5
}
