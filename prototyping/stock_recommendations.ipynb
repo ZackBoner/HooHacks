{
 "cells": [
  {
   "cell_type": "code",
   "execution_count": 151,
   "id": "advised-exercise",
   "metadata": {
    "ExecuteTime": {
     "end_time": "2021-03-28T02:24:42.129945Z",
     "start_time": "2021-03-28T02:24:42.125941Z"
    }
   },
   "outputs": [],
   "source": [
    "import pandas as pd\n",
    "import numpy as np\n",
    "import pickle\n",
    "import yahoofinancials as yf"
   ]
  },
  {
   "cell_type": "code",
   "execution_count": 152,
   "id": "ethical-david",
   "metadata": {
    "ExecuteTime": {
     "end_time": "2021-03-28T02:24:42.525588Z",
     "start_time": "2021-03-28T02:24:42.511577Z"
    }
   },
   "outputs": [],
   "source": [
    "stocks_df = pd.read_csv('data/processed_data/processed_data.csv')\n",
    "stocks_df = stocks_df.rename(columns={'Unnamed: 0': 'symbol'})"
   ]
  },
  {
   "cell_type": "code",
   "execution_count": 153,
   "id": "leading-liberty",
   "metadata": {
    "ExecuteTime": {
     "end_time": "2021-03-28T02:24:43.222696Z",
     "start_time": "2021-03-28T02:24:43.219695Z"
    }
   },
   "outputs": [],
   "source": [
    "stocks_df.index = stocks_df['symbol']\n",
    "stocks_df.drop('symbol', axis=1, inplace=True)"
   ]
  },
  {
   "cell_type": "code",
   "execution_count": 154,
   "id": "daily-virus",
   "metadata": {
    "ExecuteTime": {
     "end_time": "2021-03-28T02:24:43.506578Z",
     "start_time": "2021-03-28T02:24:43.503574Z"
    }
   },
   "outputs": [
    {
     "data": {
      "text/plain": [
       "Index(['twoHundredDayAverage', 'averageDailyVolume10Day', 'fiftyDayAverage',\n",
       "       'averageVolume10days', 'beta', 'marketCap',\n",
       "       'priceToSalesTrailing12Months', 'fiftyTwoWeekHigh', 'forwardPE',\n",
       "       'fiftyTwoWeekLow', 'cluster'],\n",
       "      dtype='object')"
      ]
     },
     "execution_count": 154,
     "metadata": {},
     "output_type": "execute_result"
    }
   ],
   "source": [
    "stocks_df.columns"
   ]
  },
  {
   "cell_type": "code",
   "execution_count": 155,
   "id": "basic-sculpture",
   "metadata": {
    "ExecuteTime": {
     "end_time": "2021-03-28T02:24:44.317843Z",
     "start_time": "2021-03-28T02:24:44.303831Z"
    }
   },
   "outputs": [
    {
     "data": {
      "text/html": [
       "<div>\n",
       "<style scoped>\n",
       "    .dataframe tbody tr th:only-of-type {\n",
       "        vertical-align: middle;\n",
       "    }\n",
       "\n",
       "    .dataframe tbody tr th {\n",
       "        vertical-align: top;\n",
       "    }\n",
       "\n",
       "    .dataframe thead th {\n",
       "        text-align: right;\n",
       "    }\n",
       "</style>\n",
       "<table border=\"1\" class=\"dataframe\">\n",
       "  <thead>\n",
       "    <tr style=\"text-align: right;\">\n",
       "      <th></th>\n",
       "      <th>twoHundredDayAverage</th>\n",
       "      <th>averageDailyVolume10Day</th>\n",
       "      <th>fiftyDayAverage</th>\n",
       "      <th>averageVolume10days</th>\n",
       "      <th>beta</th>\n",
       "      <th>marketCap</th>\n",
       "      <th>priceToSalesTrailing12Months</th>\n",
       "      <th>fiftyTwoWeekHigh</th>\n",
       "      <th>forwardPE</th>\n",
       "      <th>fiftyTwoWeekLow</th>\n",
       "      <th>cluster</th>\n",
       "    </tr>\n",
       "    <tr>\n",
       "      <th>symbol</th>\n",
       "      <th></th>\n",
       "      <th></th>\n",
       "      <th></th>\n",
       "      <th></th>\n",
       "      <th></th>\n",
       "      <th></th>\n",
       "      <th></th>\n",
       "      <th></th>\n",
       "      <th></th>\n",
       "      <th></th>\n",
       "      <th></th>\n",
       "    </tr>\n",
       "  </thead>\n",
       "  <tbody>\n",
       "    <tr>\n",
       "      <th>A</th>\n",
       "      <td>114.528275</td>\n",
       "      <td>1629150</td>\n",
       "      <td>122.974850</td>\n",
       "      <td>1629150</td>\n",
       "      <td>1.010834</td>\n",
       "      <td>38282256384</td>\n",
       "      <td>6.922650</td>\n",
       "      <td>136.980</td>\n",
       "      <td>28.882760</td>\n",
       "      <td>68.14</td>\n",
       "      <td>3</td>\n",
       "    </tr>\n",
       "    <tr>\n",
       "      <th>AA</th>\n",
       "      <td>19.994532</td>\n",
       "      <td>7195425</td>\n",
       "      <td>26.984285</td>\n",
       "      <td>7195425</td>\n",
       "      <td>2.654205</td>\n",
       "      <td>6107601920</td>\n",
       "      <td>0.657721</td>\n",
       "      <td>33.450</td>\n",
       "      <td>13.217741</td>\n",
       "      <td>5.71</td>\n",
       "      <td>2</td>\n",
       "    </tr>\n",
       "    <tr>\n",
       "      <th>AAL</th>\n",
       "      <td>15.898058</td>\n",
       "      <td>46267525</td>\n",
       "      <td>21.025429</td>\n",
       "      <td>46267525</td>\n",
       "      <td>1.858071</td>\n",
       "      <td>14667771904</td>\n",
       "      <td>0.846039</td>\n",
       "      <td>26.090</td>\n",
       "      <td>88.192314</td>\n",
       "      <td>8.25</td>\n",
       "      <td>0</td>\n",
       "    </tr>\n",
       "    <tr>\n",
       "      <th>AAON</th>\n",
       "      <td>66.960500</td>\n",
       "      <td>180100</td>\n",
       "      <td>75.037140</td>\n",
       "      <td>180100</td>\n",
       "      <td>0.639219</td>\n",
       "      <td>3781918720</td>\n",
       "      <td>7.349939</td>\n",
       "      <td>81.250</td>\n",
       "      <td>47.900665</td>\n",
       "      <td>43.84</td>\n",
       "      <td>4</td>\n",
       "    </tr>\n",
       "    <tr>\n",
       "      <th>AAP</th>\n",
       "      <td>159.274750</td>\n",
       "      <td>964112</td>\n",
       "      <td>170.189710</td>\n",
       "      <td>964112</td>\n",
       "      <td>1.330985</td>\n",
       "      <td>12274030592</td>\n",
       "      <td>1.214490</td>\n",
       "      <td>188.170</td>\n",
       "      <td>16.845325</td>\n",
       "      <td>81.94</td>\n",
       "      <td>0</td>\n",
       "    </tr>\n",
       "    <tr>\n",
       "      <th>...</th>\n",
       "      <td>...</td>\n",
       "      <td>...</td>\n",
       "      <td>...</td>\n",
       "      <td>...</td>\n",
       "      <td>...</td>\n",
       "      <td>...</td>\n",
       "      <td>...</td>\n",
       "      <td>...</td>\n",
       "      <td>...</td>\n",
       "      <td>...</td>\n",
       "      <td>...</td>\n",
       "    </tr>\n",
       "    <tr>\n",
       "      <th>ZBH</th>\n",
       "      <td>150.406400</td>\n",
       "      <td>887425</td>\n",
       "      <td>159.974000</td>\n",
       "      <td>887425</td>\n",
       "      <td>1.358613</td>\n",
       "      <td>33531330560</td>\n",
       "      <td>4.773483</td>\n",
       "      <td>170.050</td>\n",
       "      <td>18.714619</td>\n",
       "      <td>88.00</td>\n",
       "      <td>3</td>\n",
       "    </tr>\n",
       "    <tr>\n",
       "      <th>ZBRA</th>\n",
       "      <td>371.423520</td>\n",
       "      <td>468150</td>\n",
       "      <td>472.759160</td>\n",
       "      <td>468150</td>\n",
       "      <td>1.654387</td>\n",
       "      <td>25501810688</td>\n",
       "      <td>5.733321</td>\n",
       "      <td>516.790</td>\n",
       "      <td>27.843550</td>\n",
       "      <td>170.63</td>\n",
       "      <td>3</td>\n",
       "    </tr>\n",
       "    <tr>\n",
       "      <th>ZEN</th>\n",
       "      <td>129.127270</td>\n",
       "      <td>1227575</td>\n",
       "      <td>142.372000</td>\n",
       "      <td>1227575</td>\n",
       "      <td>1.275731</td>\n",
       "      <td>15384035328</td>\n",
       "      <td>14.942282</td>\n",
       "      <td>166.600</td>\n",
       "      <td>124.419050</td>\n",
       "      <td>56.60</td>\n",
       "      <td>1</td>\n",
       "    </tr>\n",
       "    <tr>\n",
       "      <th>ZG</th>\n",
       "      <td>128.302950</td>\n",
       "      <td>766387</td>\n",
       "      <td>161.094860</td>\n",
       "      <td>766387</td>\n",
       "      <td>1.418743</td>\n",
       "      <td>30947401728</td>\n",
       "      <td>9.266197</td>\n",
       "      <td>212.400</td>\n",
       "      <td>95.710144</td>\n",
       "      <td>28.26</td>\n",
       "      <td>3</td>\n",
       "    </tr>\n",
       "    <tr>\n",
       "      <th>ZS</th>\n",
       "      <td>173.180970</td>\n",
       "      <td>2020637</td>\n",
       "      <td>197.318570</td>\n",
       "      <td>2020637</td>\n",
       "      <td>0.875313</td>\n",
       "      <td>23079892992</td>\n",
       "      <td>43.056850</td>\n",
       "      <td>230.881</td>\n",
       "      <td>278.327850</td>\n",
       "      <td>57.77</td>\n",
       "      <td>1</td>\n",
       "    </tr>\n",
       "  </tbody>\n",
       "</table>\n",
       "<p>646 rows × 11 columns</p>\n",
       "</div>"
      ],
      "text/plain": [
       "        twoHundredDayAverage  averageDailyVolume10Day  fiftyDayAverage  \\\n",
       "symbol                                                                   \n",
       "A                 114.528275                  1629150       122.974850   \n",
       "AA                 19.994532                  7195425        26.984285   \n",
       "AAL                15.898058                 46267525        21.025429   \n",
       "AAON               66.960500                   180100        75.037140   \n",
       "AAP               159.274750                   964112       170.189710   \n",
       "...                      ...                      ...              ...   \n",
       "ZBH               150.406400                   887425       159.974000   \n",
       "ZBRA              371.423520                   468150       472.759160   \n",
       "ZEN               129.127270                  1227575       142.372000   \n",
       "ZG                128.302950                   766387       161.094860   \n",
       "ZS                173.180970                  2020637       197.318570   \n",
       "\n",
       "        averageVolume10days      beta    marketCap  \\\n",
       "symbol                                               \n",
       "A                   1629150  1.010834  38282256384   \n",
       "AA                  7195425  2.654205   6107601920   \n",
       "AAL                46267525  1.858071  14667771904   \n",
       "AAON                 180100  0.639219   3781918720   \n",
       "AAP                  964112  1.330985  12274030592   \n",
       "...                     ...       ...          ...   \n",
       "ZBH                  887425  1.358613  33531330560   \n",
       "ZBRA                 468150  1.654387  25501810688   \n",
       "ZEN                 1227575  1.275731  15384035328   \n",
       "ZG                   766387  1.418743  30947401728   \n",
       "ZS                  2020637  0.875313  23079892992   \n",
       "\n",
       "        priceToSalesTrailing12Months  fiftyTwoWeekHigh   forwardPE  \\\n",
       "symbol                                                               \n",
       "A                           6.922650           136.980   28.882760   \n",
       "AA                          0.657721            33.450   13.217741   \n",
       "AAL                         0.846039            26.090   88.192314   \n",
       "AAON                        7.349939            81.250   47.900665   \n",
       "AAP                         1.214490           188.170   16.845325   \n",
       "...                              ...               ...         ...   \n",
       "ZBH                         4.773483           170.050   18.714619   \n",
       "ZBRA                        5.733321           516.790   27.843550   \n",
       "ZEN                        14.942282           166.600  124.419050   \n",
       "ZG                          9.266197           212.400   95.710144   \n",
       "ZS                         43.056850           230.881  278.327850   \n",
       "\n",
       "        fiftyTwoWeekLow  cluster  \n",
       "symbol                            \n",
       "A                 68.14        3  \n",
       "AA                 5.71        2  \n",
       "AAL                8.25        0  \n",
       "AAON              43.84        4  \n",
       "AAP               81.94        0  \n",
       "...                 ...      ...  \n",
       "ZBH               88.00        3  \n",
       "ZBRA             170.63        3  \n",
       "ZEN               56.60        1  \n",
       "ZG                28.26        3  \n",
       "ZS                57.77        1  \n",
       "\n",
       "[646 rows x 11 columns]"
      ]
     },
     "execution_count": 155,
     "metadata": {},
     "output_type": "execute_result"
    }
   ],
   "source": [
    "stocks_df"
   ]
  },
  {
   "cell_type": "code",
   "execution_count": 156,
   "id": "eastern-secretariat",
   "metadata": {
    "ExecuteTime": {
     "end_time": "2021-03-28T02:24:47.487175Z",
     "start_time": "2021-03-28T02:24:47.484172Z"
    }
   },
   "outputs": [],
   "source": [
    "prepared_stocks_data = np.load('data/processed_data/transformed_data.npy')"
   ]
  },
  {
   "cell_type": "code",
   "execution_count": 157,
   "id": "guided-blast",
   "metadata": {
    "ExecuteTime": {
     "end_time": "2021-03-28T02:24:47.950362Z",
     "start_time": "2021-03-28T02:24:47.948360Z"
    }
   },
   "outputs": [],
   "source": [
    "prepared_stocks_df = pd.DataFrame(prepared_stocks_data, index = stocks_df.index, columns = stocks_df.columns[:-1])"
   ]
  },
  {
   "cell_type": "code",
   "execution_count": 158,
   "id": "active-leader",
   "metadata": {
    "ExecuteTime": {
     "end_time": "2021-03-28T02:24:49.347599Z",
     "start_time": "2021-03-28T02:24:49.336589Z"
    }
   },
   "outputs": [
    {
     "data": {
      "text/html": [
       "<div>\n",
       "<style scoped>\n",
       "    .dataframe tbody tr th:only-of-type {\n",
       "        vertical-align: middle;\n",
       "    }\n",
       "\n",
       "    .dataframe tbody tr th {\n",
       "        vertical-align: top;\n",
       "    }\n",
       "\n",
       "    .dataframe thead th {\n",
       "        text-align: right;\n",
       "    }\n",
       "</style>\n",
       "<table border=\"1\" class=\"dataframe\">\n",
       "  <thead>\n",
       "    <tr style=\"text-align: right;\">\n",
       "      <th></th>\n",
       "      <th>twoHundredDayAverage</th>\n",
       "      <th>averageDailyVolume10Day</th>\n",
       "      <th>fiftyDayAverage</th>\n",
       "      <th>averageVolume10days</th>\n",
       "      <th>beta</th>\n",
       "      <th>marketCap</th>\n",
       "      <th>priceToSalesTrailing12Months</th>\n",
       "      <th>fiftyTwoWeekHigh</th>\n",
       "      <th>forwardPE</th>\n",
       "      <th>fiftyTwoWeekLow</th>\n",
       "    </tr>\n",
       "    <tr>\n",
       "      <th>symbol</th>\n",
       "      <th></th>\n",
       "      <th></th>\n",
       "      <th></th>\n",
       "      <th></th>\n",
       "      <th></th>\n",
       "      <th></th>\n",
       "      <th></th>\n",
       "      <th></th>\n",
       "      <th></th>\n",
       "      <th></th>\n",
       "    </tr>\n",
       "  </thead>\n",
       "  <tbody>\n",
       "    <tr>\n",
       "      <th>A</th>\n",
       "      <td>-0.036409</td>\n",
       "      <td>-0.154162</td>\n",
       "      <td>-0.053649</td>\n",
       "      <td>-0.154162</td>\n",
       "      <td>-0.425559</td>\n",
       "      <td>2.153223</td>\n",
       "      <td>-0.050694</td>\n",
       "      <td>-0.074814</td>\n",
       "      <td>-0.062739</td>\n",
       "      <td>0.022610</td>\n",
       "    </tr>\n",
       "    <tr>\n",
       "      <th>AA</th>\n",
       "      <td>-0.464103</td>\n",
       "      <td>0.809406</td>\n",
       "      <td>-0.460465</td>\n",
       "      <td>0.809406</td>\n",
       "      <td>2.101878</td>\n",
       "      <td>-0.726872</td>\n",
       "      <td>-0.054266</td>\n",
       "      <td>-0.473177</td>\n",
       "      <td>-0.147663</td>\n",
       "      <td>-0.466456</td>\n",
       "    </tr>\n",
       "    <tr>\n",
       "      <th>AAL</th>\n",
       "      <td>-0.482636</td>\n",
       "      <td>7.573108</td>\n",
       "      <td>-0.485719</td>\n",
       "      <td>7.573108</td>\n",
       "      <td>0.877457</td>\n",
       "      <td>0.039386</td>\n",
       "      <td>-0.054158</td>\n",
       "      <td>-0.501497</td>\n",
       "      <td>0.258795</td>\n",
       "      <td>-0.446558</td>\n",
       "    </tr>\n",
       "    <tr>\n",
       "      <th>AAON</th>\n",
       "      <td>-0.251617</td>\n",
       "      <td>-0.405004</td>\n",
       "      <td>-0.256813</td>\n",
       "      <td>-0.405004</td>\n",
       "      <td>-0.997087</td>\n",
       "      <td>-0.935055</td>\n",
       "      <td>-0.050451</td>\n",
       "      <td>-0.289252</td>\n",
       "      <td>0.040363</td>\n",
       "      <td>-0.167752</td>\n",
       "    </tr>\n",
       "    <tr>\n",
       "      <th>AAP</th>\n",
       "      <td>0.166035</td>\n",
       "      <td>-0.269285</td>\n",
       "      <td>0.146451</td>\n",
       "      <td>-0.269285</td>\n",
       "      <td>0.066820</td>\n",
       "      <td>-0.174888</td>\n",
       "      <td>-0.053948</td>\n",
       "      <td>0.122154</td>\n",
       "      <td>-0.127997</td>\n",
       "      <td>0.130717</td>\n",
       "    </tr>\n",
       "    <tr>\n",
       "      <th>...</th>\n",
       "      <td>...</td>\n",
       "      <td>...</td>\n",
       "      <td>...</td>\n",
       "      <td>...</td>\n",
       "      <td>...</td>\n",
       "      <td>...</td>\n",
       "      <td>...</td>\n",
       "      <td>...</td>\n",
       "      <td>...</td>\n",
       "      <td>...</td>\n",
       "    </tr>\n",
       "    <tr>\n",
       "      <th>ZBH</th>\n",
       "      <td>0.125913</td>\n",
       "      <td>-0.282560</td>\n",
       "      <td>0.103156</td>\n",
       "      <td>-0.282560</td>\n",
       "      <td>0.109311</td>\n",
       "      <td>1.727947</td>\n",
       "      <td>-0.051919</td>\n",
       "      <td>0.052432</td>\n",
       "      <td>-0.117863</td>\n",
       "      <td>0.178190</td>\n",
       "    </tr>\n",
       "    <tr>\n",
       "      <th>ZBRA</th>\n",
       "      <td>1.125848</td>\n",
       "      <td>-0.355140</td>\n",
       "      <td>1.428766</td>\n",
       "      <td>-0.355140</td>\n",
       "      <td>0.564199</td>\n",
       "      <td>1.009189</td>\n",
       "      <td>-0.051372</td>\n",
       "      <td>1.386618</td>\n",
       "      <td>-0.068373</td>\n",
       "      <td>0.825499</td>\n",
       "    </tr>\n",
       "    <tr>\n",
       "      <th>ZEN</th>\n",
       "      <td>0.029641</td>\n",
       "      <td>-0.223678</td>\n",
       "      <td>0.028558</td>\n",
       "      <td>-0.223678</td>\n",
       "      <td>-0.018158</td>\n",
       "      <td>0.103502</td>\n",
       "      <td>-0.046122</td>\n",
       "      <td>0.039157</td>\n",
       "      <td>0.455190</td>\n",
       "      <td>-0.067793</td>\n",
       "    </tr>\n",
       "    <tr>\n",
       "      <th>ZG</th>\n",
       "      <td>0.025911</td>\n",
       "      <td>-0.303513</td>\n",
       "      <td>0.107907</td>\n",
       "      <td>-0.303513</td>\n",
       "      <td>0.201788</td>\n",
       "      <td>1.496648</td>\n",
       "      <td>-0.049358</td>\n",
       "      <td>0.215387</td>\n",
       "      <td>0.299551</td>\n",
       "      <td>-0.289803</td>\n",
       "    </tr>\n",
       "    <tr>\n",
       "      <th>ZS</th>\n",
       "      <td>0.228950</td>\n",
       "      <td>-0.086392</td>\n",
       "      <td>0.261426</td>\n",
       "      <td>-0.086392</td>\n",
       "      <td>-0.633985</td>\n",
       "      <td>0.792393</td>\n",
       "      <td>-0.030095</td>\n",
       "      <td>0.286498</td>\n",
       "      <td>1.289573</td>\n",
       "      <td>-0.058627</td>\n",
       "    </tr>\n",
       "  </tbody>\n",
       "</table>\n",
       "<p>646 rows × 10 columns</p>\n",
       "</div>"
      ],
      "text/plain": [
       "        twoHundredDayAverage  averageDailyVolume10Day  fiftyDayAverage  \\\n",
       "symbol                                                                   \n",
       "A                  -0.036409                -0.154162        -0.053649   \n",
       "AA                 -0.464103                 0.809406        -0.460465   \n",
       "AAL                -0.482636                 7.573108        -0.485719   \n",
       "AAON               -0.251617                -0.405004        -0.256813   \n",
       "AAP                 0.166035                -0.269285         0.146451   \n",
       "...                      ...                      ...              ...   \n",
       "ZBH                 0.125913                -0.282560         0.103156   \n",
       "ZBRA                1.125848                -0.355140         1.428766   \n",
       "ZEN                 0.029641                -0.223678         0.028558   \n",
       "ZG                  0.025911                -0.303513         0.107907   \n",
       "ZS                  0.228950                -0.086392         0.261426   \n",
       "\n",
       "        averageVolume10days      beta  marketCap  \\\n",
       "symbol                                             \n",
       "A                 -0.154162 -0.425559   2.153223   \n",
       "AA                 0.809406  2.101878  -0.726872   \n",
       "AAL                7.573108  0.877457   0.039386   \n",
       "AAON              -0.405004 -0.997087  -0.935055   \n",
       "AAP               -0.269285  0.066820  -0.174888   \n",
       "...                     ...       ...        ...   \n",
       "ZBH               -0.282560  0.109311   1.727947   \n",
       "ZBRA              -0.355140  0.564199   1.009189   \n",
       "ZEN               -0.223678 -0.018158   0.103502   \n",
       "ZG                -0.303513  0.201788   1.496648   \n",
       "ZS                -0.086392 -0.633985   0.792393   \n",
       "\n",
       "        priceToSalesTrailing12Months  fiftyTwoWeekHigh  forwardPE  \\\n",
       "symbol                                                              \n",
       "A                          -0.050694         -0.074814  -0.062739   \n",
       "AA                         -0.054266         -0.473177  -0.147663   \n",
       "AAL                        -0.054158         -0.501497   0.258795   \n",
       "AAON                       -0.050451         -0.289252   0.040363   \n",
       "AAP                        -0.053948          0.122154  -0.127997   \n",
       "...                              ...               ...        ...   \n",
       "ZBH                        -0.051919          0.052432  -0.117863   \n",
       "ZBRA                       -0.051372          1.386618  -0.068373   \n",
       "ZEN                        -0.046122          0.039157   0.455190   \n",
       "ZG                         -0.049358          0.215387   0.299551   \n",
       "ZS                         -0.030095          0.286498   1.289573   \n",
       "\n",
       "        fiftyTwoWeekLow  \n",
       "symbol                   \n",
       "A              0.022610  \n",
       "AA            -0.466456  \n",
       "AAL           -0.446558  \n",
       "AAON          -0.167752  \n",
       "AAP            0.130717  \n",
       "...                 ...  \n",
       "ZBH            0.178190  \n",
       "ZBRA           0.825499  \n",
       "ZEN           -0.067793  \n",
       "ZG            -0.289803  \n",
       "ZS            -0.058627  \n",
       "\n",
       "[646 rows x 10 columns]"
      ]
     },
     "execution_count": 158,
     "metadata": {},
     "output_type": "execute_result"
    }
   ],
   "source": [
    "prepared_stocks_df"
   ]
  },
  {
   "cell_type": "code",
   "execution_count": 159,
   "id": "tired-noise",
   "metadata": {
    "ExecuteTime": {
     "end_time": "2021-03-28T02:24:50.966492Z",
     "start_time": "2021-03-28T02:24:50.964489Z"
    }
   },
   "outputs": [],
   "source": [
    "clusters = np.array(stocks_df.cluster)"
   ]
  },
  {
   "cell_type": "code",
   "execution_count": 160,
   "id": "round-member",
   "metadata": {
    "ExecuteTime": {
     "end_time": "2021-03-28T02:24:53.595547Z",
     "start_time": "2021-03-28T02:24:53.593547Z"
    }
   },
   "outputs": [],
   "source": [
    "with open('model/pipeline', 'rb') as handle:\n",
    "    pipeline = pickle.load(handle)"
   ]
  },
  {
   "cell_type": "code",
   "execution_count": 161,
   "id": "double-ferry",
   "metadata": {
    "ExecuteTime": {
     "end_time": "2021-03-28T02:24:54.191677Z",
     "start_time": "2021-03-28T02:24:54.185672Z"
    }
   },
   "outputs": [
    {
     "name": "stdout",
     "output_type": "stream",
     "text": [
      "0 1.5492084285714285\n",
      "1 0.9403671144578312\n",
      "2 2.72699404\n",
      "3 1.4071738478260871\n",
      "4 0.706291637037037\n"
     ]
    }
   ],
   "source": [
    "for cluster in sorted(stocks_df.cluster.unique()):\n",
    "    print(cluster, stocks_df[stocks_df.cluster == cluster].beta.mean())"
   ]
  },
  {
   "cell_type": "markdown",
   "id": "expressed-attribute",
   "metadata": {},
   "source": [
    "From the previous example, we see that \n",
    "\n",
    "clusters 1 and 4 are low-risk relative to the market,\n",
    "\n",
    "cluster 2 is high-risk relative to the market,\n",
    "\n",
    "and clusters 0 and 3 are medium-risk relative to the market."
   ]
  },
  {
   "cell_type": "code",
   "execution_count": 162,
   "id": "diverse-klein",
   "metadata": {
    "ExecuteTime": {
     "end_time": "2021-03-28T02:25:19.679012Z",
     "start_time": "2021-03-28T02:25:19.672006Z"
    }
   },
   "outputs": [
    {
     "name": "stdout",
     "output_type": "stream",
     "text": [
      "0 6649967431.881773\n",
      "1 20111150024.481926\n",
      "2 9087189719.04\n",
      "3 34583222539.13043\n",
      "4 6420226755.318519\n"
     ]
    }
   ],
   "source": [
    "for cluster in sorted(stocks_df.cluster.unique()):\n",
    "    print(cluster, stocks_df[stocks_df.cluster == cluster].marketCap.mean())"
   ]
  },
  {
   "cell_type": "markdown",
   "id": "extensive-campaign",
   "metadata": {},
   "source": [
    "From the previous example, we see that\n",
    "\n",
    "clusters 0, 2, and 4 are lower market cap than\n",
    "\n",
    "clusters 1 and 3"
   ]
  },
  {
   "cell_type": "markdown",
   "id": "early-hormone",
   "metadata": {},
   "source": [
    "From this information, we can characterize \n",
    "\n",
    "cluster 0 as \"medium risk, low market cap\"\n",
    "\n",
    "cluster 1 as \"low risk, high market cap\"\n",
    "\n",
    "cluster 2 as \"high risk, low market cap\"\n",
    "\n",
    "cluster 3 as \"medium risk, high market cap\" and\n",
    "\n",
    "cluster 4 as \"low risk, low market cap\""
   ]
  },
  {
   "cell_type": "code",
   "execution_count": 122,
   "id": "partial-protocol",
   "metadata": {
    "ExecuteTime": {
     "end_time": "2021-03-28T02:14:34.163345Z",
     "start_time": "2021-03-28T02:14:34.161344Z"
    }
   },
   "outputs": [],
   "source": [
    "from scipy.spatial.distance import cosine"
   ]
  },
  {
   "cell_type": "code",
   "execution_count": 141,
   "id": "convinced-behavior",
   "metadata": {
    "ExecuteTime": {
     "end_time": "2021-03-28T02:19:03.343179Z",
     "start_time": "2021-03-28T02:19:03.339176Z"
    }
   },
   "outputs": [],
   "source": [
    "def n_most_similar_stocks(stocks, s, n):\n",
    "    stock_similarities = []\n",
    "    for ticker in stocks.index:\n",
    "        stock = pipeline.transform(stocks.loc[[ticker]])\n",
    "        stock_similarities.append((ticker, cosine(stock, s)))\n",
    "    n_most_similar_stocks = sorted(stock_similarities, key=lambda x: x[1])[:n]\n",
    "    n_most_similar_stock_tickers = [x[0] for x in n_most_similar_stocks]\n",
    "    return stocks_df.loc[n_most_similar_stock_tickers]"
   ]
  },
  {
   "cell_type": "code",
   "execution_count": 217,
   "id": "immune-russia",
   "metadata": {
    "ExecuteTime": {
     "end_time": "2021-03-28T03:16:22.507199Z",
     "start_time": "2021-03-28T03:16:22.504196Z"
    }
   },
   "outputs": [],
   "source": [
    "def get_stock_vector(ticker_bought):\n",
    "    try:\n",
    "        stock_data_df = stocks_df.drop('cluster', axis=1).loc[[ticker_bought]]\n",
    "    except KeyError:\n",
    "        columns = ['twoHundredDayAverage', 'averageDailyVolume10Day', 'fiftyDayAverage',\n",
    "                   'averageVolume10days', 'beta', 'marketCap',\n",
    "                   'priceToSalesTrailing12Months', 'fiftyTwoWeekHigh', 'forwardPE',\n",
    "                   'fiftyTwoWeekLow']\n",
    "        stock_data = yf.YahooFinancials(ticker_bought).get_summary_data()\n",
    "        stock_data = pd.DataFrame.from_dict(stock_data, orient='index')\n",
    "        stock_data_df = stock_data[columns]\n",
    "    return stock_data_df"
   ]
  },
  {
   "cell_type": "code",
   "execution_count": 218,
   "id": "correct-capture",
   "metadata": {
    "ExecuteTime": {
     "end_time": "2021-03-28T03:16:22.785398Z",
     "start_time": "2021-03-28T03:16:22.780393Z"
    }
   },
   "outputs": [],
   "source": [
    "def recommend_stock(future_risk_score, ticker_bought, amount_spent, amount_willing_to_spend):\n",
    "    # prior risk score - how risky they think their purchase was\n",
    "    # future risk score - how risky they want to be in the future\n",
    "    if future_risk_score == 1:\n",
    "        cluster = 1\n",
    "    elif future_risk_score == 2:\n",
    "        cluster = 4\n",
    "    elif future_risk_score == 3:\n",
    "        cluster = 3\n",
    "    elif future_risk_score == 4:\n",
    "        cluster = 0\n",
    "    elif future_risk_score == 5:\n",
    "        cluster = 2\n",
    "    else:\n",
    "        raise ValueError(\"Future risk score out of bounds.\")\n",
    "    \n",
    "    stock = get_stock_vector(ticker_bought)\n",
    "        \n",
    "    spending_ratio = amount_willing_to_spend//amount_spent\n",
    "    if spending_ratio == 0:\n",
    "        n_stocks = 1\n",
    "    elif 1 <= spending_ratio <= 3:\n",
    "        n_stocks = 2\n",
    "    elif 4 <= spending_ratio <= 7:\n",
    "        n_stocks = 3\n",
    "    elif 8 <= spending_ratio <= 10:\n",
    "        n_stocks = 4\n",
    "    else:\n",
    "        n_stocks = 5\n",
    "    \n",
    "    stock_vector = pipeline.transform(stock)\n",
    "    stocks_available = prepared_stocks_df[stocks_df.cluster == cluster]\n",
    "    try:\n",
    "        stocks_available = stocks_available.drop(ticker_bought)\n",
    "    except KeyError:\n",
    "        pass\n",
    "    n_most_similar = n_most_similar_stocks(stocks_available, stock_vector, n_stocks)\n",
    "    return n_most_similar"
   ]
  },
  {
   "cell_type": "code",
   "execution_count": 219,
   "id": "purple-basket",
   "metadata": {
    "ExecuteTime": {
     "end_time": "2021-03-28T03:16:23.193325Z",
     "start_time": "2021-03-28T03:16:23.125268Z"
    }
   },
   "outputs": [
    {
     "data": {
      "text/html": [
       "<div>\n",
       "<style scoped>\n",
       "    .dataframe tbody tr th:only-of-type {\n",
       "        vertical-align: middle;\n",
       "    }\n",
       "\n",
       "    .dataframe tbody tr th {\n",
       "        vertical-align: top;\n",
       "    }\n",
       "\n",
       "    .dataframe thead th {\n",
       "        text-align: right;\n",
       "    }\n",
       "</style>\n",
       "<table border=\"1\" class=\"dataframe\">\n",
       "  <thead>\n",
       "    <tr style=\"text-align: right;\">\n",
       "      <th></th>\n",
       "      <th>twoHundredDayAverage</th>\n",
       "      <th>averageDailyVolume10Day</th>\n",
       "      <th>fiftyDayAverage</th>\n",
       "      <th>averageVolume10days</th>\n",
       "      <th>beta</th>\n",
       "      <th>marketCap</th>\n",
       "      <th>priceToSalesTrailing12Months</th>\n",
       "      <th>fiftyTwoWeekHigh</th>\n",
       "      <th>forwardPE</th>\n",
       "      <th>fiftyTwoWeekLow</th>\n",
       "      <th>cluster</th>\n",
       "    </tr>\n",
       "    <tr>\n",
       "      <th>symbol</th>\n",
       "      <th></th>\n",
       "      <th></th>\n",
       "      <th></th>\n",
       "      <th></th>\n",
       "      <th></th>\n",
       "      <th></th>\n",
       "      <th></th>\n",
       "      <th></th>\n",
       "      <th></th>\n",
       "      <th></th>\n",
       "      <th></th>\n",
       "    </tr>\n",
       "  </thead>\n",
       "  <tbody>\n",
       "    <tr>\n",
       "      <th>RUN</th>\n",
       "      <td>65.448490</td>\n",
       "      <td>6003162</td>\n",
       "      <td>62.97886</td>\n",
       "      <td>6003162</td>\n",
       "      <td>2.190682</td>\n",
       "      <td>11565520896</td>\n",
       "      <td>12.541351</td>\n",
       "      <td>100.930</td>\n",
       "      <td>-178.406250</td>\n",
       "      <td>8.75</td>\n",
       "      <td>2</td>\n",
       "    </tr>\n",
       "    <tr>\n",
       "      <th>ASGN</th>\n",
       "      <td>82.099710</td>\n",
       "      <td>267725</td>\n",
       "      <td>95.25486</td>\n",
       "      <td>267725</td>\n",
       "      <td>2.192307</td>\n",
       "      <td>5115559936</td>\n",
       "      <td>1.294882</td>\n",
       "      <td>102.780</td>\n",
       "      <td>16.756943</td>\n",
       "      <td>30.15</td>\n",
       "      <td>2</td>\n",
       "    </tr>\n",
       "    <tr>\n",
       "      <th>CVET</th>\n",
       "      <td>29.390612</td>\n",
       "      <td>846612</td>\n",
       "      <td>34.18257</td>\n",
       "      <td>846612</td>\n",
       "      <td>2.209844</td>\n",
       "      <td>4168560384</td>\n",
       "      <td>0.960719</td>\n",
       "      <td>40.775</td>\n",
       "      <td>28.858492</td>\n",
       "      <td>6.26</td>\n",
       "      <td>2</td>\n",
       "    </tr>\n",
       "    <tr>\n",
       "      <th>LNC</th>\n",
       "      <td>46.516113</td>\n",
       "      <td>1929537</td>\n",
       "      <td>58.05057</td>\n",
       "      <td>1929537</td>\n",
       "      <td>2.230227</td>\n",
       "      <td>11928269824</td>\n",
       "      <td>0.684000</td>\n",
       "      <td>67.370</td>\n",
       "      <td>5.780465</td>\n",
       "      <td>22.65</td>\n",
       "      <td>2</td>\n",
       "    </tr>\n",
       "  </tbody>\n",
       "</table>\n",
       "</div>"
      ],
      "text/plain": [
       "        twoHundredDayAverage  averageDailyVolume10Day  fiftyDayAverage  \\\n",
       "symbol                                                                   \n",
       "RUN                65.448490                  6003162         62.97886   \n",
       "ASGN               82.099710                   267725         95.25486   \n",
       "CVET               29.390612                   846612         34.18257   \n",
       "LNC                46.516113                  1929537         58.05057   \n",
       "\n",
       "        averageVolume10days      beta    marketCap  \\\n",
       "symbol                                               \n",
       "RUN                 6003162  2.190682  11565520896   \n",
       "ASGN                 267725  2.192307   5115559936   \n",
       "CVET                 846612  2.209844   4168560384   \n",
       "LNC                 1929537  2.230227  11928269824   \n",
       "\n",
       "        priceToSalesTrailing12Months  fiftyTwoWeekHigh   forwardPE  \\\n",
       "symbol                                                               \n",
       "RUN                        12.541351           100.930 -178.406250   \n",
       "ASGN                        1.294882           102.780   16.756943   \n",
       "CVET                        0.960719            40.775   28.858492   \n",
       "LNC                         0.684000            67.370    5.780465   \n",
       "\n",
       "        fiftyTwoWeekLow  cluster  \n",
       "symbol                            \n",
       "RUN                8.75        2  \n",
       "ASGN              30.15        2  \n",
       "CVET               6.26        2  \n",
       "LNC               22.65        2  "
      ]
     },
     "execution_count": 219,
     "metadata": {},
     "output_type": "execute_result"
    }
   ],
   "source": [
    "recommend_stock(5, 'GME', 100, 1000)"
   ]
  },
  {
   "cell_type": "code",
   "execution_count": 224,
   "id": "significant-conducting",
   "metadata": {
    "ExecuteTime": {
     "end_time": "2021-03-28T03:18:10.223158Z",
     "start_time": "2021-03-28T03:18:10.115562Z"
    }
   },
   "outputs": [],
   "source": [
    "with open('model/clusterer', 'rb') as handle:\n",
    "    clusterer = pickle.load(handle)"
   ]
  },
  {
   "cell_type": "code",
   "execution_count": 240,
   "id": "allied-relative",
   "metadata": {
    "ExecuteTime": {
     "end_time": "2021-03-28T03:21:32.928686Z",
     "start_time": "2021-03-28T03:21:32.925684Z"
    }
   },
   "outputs": [],
   "source": [
    "def evaluate_perceived_risk(perceived_risk, ticker_bought):\n",
    "    stock = get_stock_vector(ticker_bought)\n",
    "    cluster = clusterer.predict(stock[['beta','marketCap']])[0]\n",
    "    \n",
    "    if cluster == 0:\n",
    "        risk = 4\n",
    "    elif cluster == 1:\n",
    "        risk = 1\n",
    "    elif cluster == 2:\n",
    "        risk = 5\n",
    "    elif cluster == 3:\n",
    "        risk = 3\n",
    "    elif cluster == 4:\n",
    "        risk = 2\n",
    "    \n",
    "    risk_delta = risk - perceived_risk\n",
    "    return risk_delta"
   ]
  },
  {
   "cell_type": "code",
   "execution_count": 246,
   "id": "recent-treaty",
   "metadata": {
    "ExecuteTime": {
     "end_time": "2021-03-28T03:22:36.813574Z",
     "start_time": "2021-03-28T03:22:36.807569Z"
    }
   },
   "outputs": [
    {
     "data": {
      "text/plain": [
       "2"
      ]
     },
     "execution_count": 246,
     "metadata": {},
     "output_type": "execute_result"
    }
   ],
   "source": [
    "evaluate_perceived_risk(1, 'GME')"
   ]
  },
  {
   "cell_type": "code",
   "execution_count": null,
   "id": "precise-election",
   "metadata": {},
   "outputs": [],
   "source": []
  }
 ],
 "metadata": {
  "kernelspec": {
   "display_name": "Python 3",
   "language": "python",
   "name": "python3"
  },
  "language_info": {
   "codemirror_mode": {
    "name": "ipython",
    "version": 3
   },
   "file_extension": ".py",
   "mimetype": "text/x-python",
   "name": "python",
   "nbconvert_exporter": "python",
   "pygments_lexer": "ipython3",
   "version": "3.9.2"
  }
 },
 "nbformat": 4,
 "nbformat_minor": 5
}
